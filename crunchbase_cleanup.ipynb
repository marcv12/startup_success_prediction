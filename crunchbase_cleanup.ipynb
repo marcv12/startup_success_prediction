{
  "cells": [
    {
      "cell_type": "markdown",
      "metadata": {
        "id": "view-in-github",
        "colab_type": "text"
      },
      "source": [
        "<a href=\"https://colab.research.google.com/github/marcv12/startup_success_prediction/blob/master/crunchbase_cleanup.ipynb\" target=\"_parent\"><img src=\"https://colab.research.google.com/assets/colab-badge.svg\" alt=\"Open In Colab\"/></a>"
      ]
    },
    {
      "cell_type": "code",
      "execution_count": null,
      "metadata": {
        "colab": {
          "base_uri": "https://localhost:8080/"
        },
        "id": "vVs_qo605jcF",
        "outputId": "b5e91bf5-312f-42f7-efff-07a353b1363b"
      },
      "outputs": [
        {
          "output_type": "stream",
          "name": "stdout",
          "text": [
            "Looking in indexes: https://pypi.org/simple, https://us-python.pkg.dev/colab-wheels/public/simple/\n",
            "Requirement already satisfied: pydotplus in /usr/local/lib/python3.10/dist-packages (2.0.2)\n",
            "Requirement already satisfied: pyparsing>=2.0.1 in /usr/local/lib/python3.10/dist-packages (from pydotplus) (3.0.9)\n",
            "Looking in indexes: https://pypi.org/simple, https://us-python.pkg.dev/colab-wheels/public/simple/\n",
            "Requirement already satisfied: kaggle in /usr/local/lib/python3.10/dist-packages (1.5.13)\n",
            "Requirement already satisfied: six>=1.10 in /usr/local/lib/python3.10/dist-packages (from kaggle) (1.16.0)\n",
            "Requirement already satisfied: certifi in /usr/local/lib/python3.10/dist-packages (from kaggle) (2022.12.7)\n",
            "Requirement already satisfied: python-dateutil in /usr/local/lib/python3.10/dist-packages (from kaggle) (2.8.2)\n",
            "Requirement already satisfied: requests in /usr/local/lib/python3.10/dist-packages (from kaggle) (2.27.1)\n",
            "Requirement already satisfied: tqdm in /usr/local/lib/python3.10/dist-packages (from kaggle) (4.65.0)\n",
            "Requirement already satisfied: python-slugify in /usr/local/lib/python3.10/dist-packages (from kaggle) (8.0.1)\n",
            "Requirement already satisfied: urllib3 in /usr/local/lib/python3.10/dist-packages (from kaggle) (1.26.15)\n",
            "Requirement already satisfied: text-unidecode>=1.3 in /usr/local/lib/python3.10/dist-packages (from python-slugify->kaggle) (1.3)\n",
            "Requirement already satisfied: charset-normalizer~=2.0.0 in /usr/local/lib/python3.10/dist-packages (from requests->kaggle) (2.0.12)\n",
            "Requirement already satisfied: idna<4,>=2.5 in /usr/local/lib/python3.10/dist-packages (from requests->kaggle) (3.4)\n"
          ]
        }
      ],
      "source": [
        "import pandas as pd\n",
        "import numpy as np\n",
        "from google.colab import files\n",
        "from zipfile import ZipFile\n",
        "import os\n",
        "import matplotlib.pyplot as plt\n",
        "import seaborn as sns\n",
        "import random\n",
        "from scipy.optimize import minimize\n",
        "import re\n",
        "\n",
        "\n",
        "\n",
        "from sklearn.preprocessing import LabelEncoder\n",
        "from sklearn.preprocessing import StandardScaler\n",
        "from sklearn.decomposition import PCA\n",
        "\n",
        "from sklearn.metrics import confusion_matrix\n",
        "from sklearn.model_selection import GridSearchCV, train_test_split\n",
        "from sklearn.metrics import accuracy_score, precision_score, recall_score, f1_score\n",
        "from sklearn.metrics import classification_report\n",
        "from sklearn.ensemble import RandomForestClassifier\n",
        "from sklearn.model_selection import RandomizedSearchCV\n",
        "from sklearn.neighbors import KNeighborsClassifier\n",
        "from sklearn import metrics\n",
        "from sklearn.svm import SVC\n",
        "from sklearn.metrics import classification_report, confusion_matrix\n",
        "from sklearn import metrics\n",
        "from sklearn import preprocessing\n",
        "\n",
        "import matplotlib.pyplot as plt\n",
        "\n",
        "from sklearn.tree import DecisionTreeClassifier\n",
        "from sklearn.model_selection import GridSearchCV\n",
        "from sklearn.tree import export_graphviz\n",
        "\n",
        "from IPython.display import Image\n",
        "!pip install pydotplus\n",
        "import pydotplus\n",
        "import graphviz\n",
        "from six import StringIO\n",
        "\n",
        "import six\n",
        "import sys\n",
        "sys.modules['sklearn.externals.six'] = six\n",
        "from sklearn.externals.six import StringIO\n",
        "\n",
        "from pydot import graph_from_dot_data\n",
        "from sklearn.utils import resample\n",
        "\n",
        "\n",
        "\n",
        "from sklearn.tree import export_graphviz\n",
        "import pydot\n",
        "import random\n",
        "\n",
        "! pip install kaggle"
      ]
    },
    {
      "cell_type": "code",
      "execution_count": null,
      "metadata": {
        "colab": {
          "base_uri": "https://localhost:8080/"
        },
        "id": "2k4khz5DLtrt",
        "outputId": "e51dc097-1e08-4db2-dad9-7573eefe1f2f"
      },
      "outputs": [
        {
          "output_type": "stream",
          "name": "stdout",
          "text": [
            "Drive already mounted at /content/drive; to attempt to forcibly remount, call drive.mount(\"/content/drive\", force_remount=True).\n"
          ]
        }
      ],
      "source": [
        "from google.colab import drive\n",
        "drive.mount('/content/drive')\n",
        "df = pd.read_csv(\"/content/drive/My Drive/organizations.csv\", encoding='utf-8')\n",
        "degrees = pd.read_csv(\"/content/drive/My Drive/degrees.csv\", encoding='utf-8')\n",
        "funding_rounds = pd.read_csv(\"/content/drive/My Drive/funding_rounds.csv\", encoding='utf-8')\n",
        "people = pd.read_csv(\"/content/drive/My Drive/people.csv\", encoding='utf-8')\n"
      ]
    },
    {
      "cell_type": "code",
      "execution_count": null,
      "metadata": {
        "colab": {
          "base_uri": "https://localhost:8080/"
        },
        "id": "yHs2sc1AByvx",
        "outputId": "85869b6d-9c9a-48e2-93b1-9faae26a14e7"
      },
      "outputs": [
        {
          "output_type": "execute_result",
          "data": {
            "text/plain": [
              "Index(['uuid', 'name', 'type', 'permalink', 'cb_url', 'rank', 'created_at',\n",
              "       'updated_at', 'legal_name', 'roles', 'domain', 'homepage_url',\n",
              "       'country_code', 'state_code', 'region', 'city', 'address',\n",
              "       'postal_code', 'status', 'short_description', 'category_list',\n",
              "       'category_groups_list', 'num_funding_rounds', 'total_funding_usd',\n",
              "       'total_funding', 'total_funding_currency_code', 'founded_on',\n",
              "       'last_funding_on', 'closed_on', 'employee_count', 'email', 'phone',\n",
              "       'facebook_url', 'linkedin_url', 'twitter_url', 'logo_url', 'alias1',\n",
              "       'alias2', 'alias3', 'primary_role', 'num_exits'],\n",
              "      dtype='object')"
            ]
          },
          "metadata": {},
          "execution_count": 3
        }
      ],
      "source": [
        "df.columns"
      ]
    },
    {
      "cell_type": "code",
      "execution_count": null,
      "metadata": {
        "id": "BvWDgTBO9OG5"
      },
      "outputs": [],
      "source": [
        "#turning all date columns in to date\n",
        "df['founded_on'] =  pd.to_datetime(df['founded_on'], format='%Y-%m-%d', errors = 'coerce') # conveting column into date and ignoring errors\n",
        "df['last_funding_on'] =  pd.to_datetime(df['last_funding_on'], format='%Y-%m-%d', errors = 'coerce')  # conveting column into date and ignoring errors\n",
        "df['founded_on'] =  pd.to_datetime(df['founded_on'], format='%Y', errors = 'coerce') # conveting column into date and ignoring errors"
      ]
    },
    {
      "cell_type": "code",
      "execution_count": null,
      "metadata": {
        "id": "QywzA04y9w80"
      },
      "outputs": [],
      "source": [
        "df = df.dropna(subset=['founded_on'])"
      ]
    },
    {
      "cell_type": "code",
      "execution_count": null,
      "metadata": {
        "id": "VywNnzR-_d6O"
      },
      "outputs": [],
      "source": [
        "import datetime as dt\n",
        "# Set cutoff date to 10 years from Jan 2022\n",
        "cutoff_date = dt.datetime(2022, 1, 1) - pd.offsets.DateOffset(years=9)\n",
        "\n",
        "# Filter DataFrame using boolean indexing\n",
        "df = df[df['founded_on'] >= cutoff_date]"
      ]
    },
    {
      "cell_type": "code",
      "execution_count": null,
      "metadata": {
        "id": "hHrUhTv-BrUj"
      },
      "outputs": [],
      "source": [
        "#Select the columns that are of interest to us\n",
        "df = df[['uuid', 'primary_role', 'country_code', 'region', 'status', 'category_list',\n",
        "         'category_groups_list', 'num_funding_rounds', 'num_exits',\n",
        "         'total_funding_usd', 'founded_on', 'last_funding_on',\n",
        "         'linkedin_url', 'facebook_url', 'twitter_url', 'employee_count',\n",
        "         ]]"
      ]
    },
    {
      "cell_type": "code",
      "execution_count": null,
      "metadata": {
        "colab": {
          "base_uri": "https://localhost:8080/"
        },
        "id": "NaA_uC7Pbwqu",
        "outputId": "d039afba-b468-494a-b834-c6e257a8e872"
      },
      "outputs": [
        {
          "output_type": "execute_result",
          "data": {
            "text/plain": [
              "(657005, 16)"
            ]
          },
          "metadata": {},
          "execution_count": 8
        }
      ],
      "source": [
        "df.shape"
      ]
    },
    {
      "cell_type": "code",
      "execution_count": null,
      "metadata": {
        "colab": {
          "base_uri": "https://localhost:8080/",
          "height": 394
        },
        "id": "q-c4fe6J-76c",
        "outputId": "82cdd95f-7b5c-457d-c339-166ead534748"
      },
      "outputs": [
        {
          "output_type": "execute_result",
          "data": {
            "text/plain": [
              "                      Unique  Missing values in %   DType\n",
              "uuid                  657005             0.000000  object\n",
              "primary_role               3             0.000000  object\n",
              "country_code             210            11.629287  object\n",
              "region                  1916            11.629287  object\n",
              "status                     4             0.000000  object\n",
              "category_list         257951             6.736022  object\n",
              "category_groups_list   51055             6.736022  object\n",
              "linkedin_url          458370            29.984703  object\n",
              "facebook_url          393307            39.911568  object\n",
              "twitter_url           325786            50.195661  object\n",
              "employee_count            10             0.000000  object"
            ],
            "text/html": [
              "\n",
              "  <div id=\"df-60055d08-00a6-46de-81df-faf8f308c719\">\n",
              "    <div class=\"colab-df-container\">\n",
              "      <div>\n",
              "<style scoped>\n",
              "    .dataframe tbody tr th:only-of-type {\n",
              "        vertical-align: middle;\n",
              "    }\n",
              "\n",
              "    .dataframe tbody tr th {\n",
              "        vertical-align: top;\n",
              "    }\n",
              "\n",
              "    .dataframe thead th {\n",
              "        text-align: right;\n",
              "    }\n",
              "</style>\n",
              "<table border=\"1\" class=\"dataframe\">\n",
              "  <thead>\n",
              "    <tr style=\"text-align: right;\">\n",
              "      <th></th>\n",
              "      <th>Unique</th>\n",
              "      <th>Missing values in %</th>\n",
              "      <th>DType</th>\n",
              "    </tr>\n",
              "  </thead>\n",
              "  <tbody>\n",
              "    <tr>\n",
              "      <th>uuid</th>\n",
              "      <td>657005</td>\n",
              "      <td>0.000000</td>\n",
              "      <td>object</td>\n",
              "    </tr>\n",
              "    <tr>\n",
              "      <th>primary_role</th>\n",
              "      <td>3</td>\n",
              "      <td>0.000000</td>\n",
              "      <td>object</td>\n",
              "    </tr>\n",
              "    <tr>\n",
              "      <th>country_code</th>\n",
              "      <td>210</td>\n",
              "      <td>11.629287</td>\n",
              "      <td>object</td>\n",
              "    </tr>\n",
              "    <tr>\n",
              "      <th>region</th>\n",
              "      <td>1916</td>\n",
              "      <td>11.629287</td>\n",
              "      <td>object</td>\n",
              "    </tr>\n",
              "    <tr>\n",
              "      <th>status</th>\n",
              "      <td>4</td>\n",
              "      <td>0.000000</td>\n",
              "      <td>object</td>\n",
              "    </tr>\n",
              "    <tr>\n",
              "      <th>category_list</th>\n",
              "      <td>257951</td>\n",
              "      <td>6.736022</td>\n",
              "      <td>object</td>\n",
              "    </tr>\n",
              "    <tr>\n",
              "      <th>category_groups_list</th>\n",
              "      <td>51055</td>\n",
              "      <td>6.736022</td>\n",
              "      <td>object</td>\n",
              "    </tr>\n",
              "    <tr>\n",
              "      <th>linkedin_url</th>\n",
              "      <td>458370</td>\n",
              "      <td>29.984703</td>\n",
              "      <td>object</td>\n",
              "    </tr>\n",
              "    <tr>\n",
              "      <th>facebook_url</th>\n",
              "      <td>393307</td>\n",
              "      <td>39.911568</td>\n",
              "      <td>object</td>\n",
              "    </tr>\n",
              "    <tr>\n",
              "      <th>twitter_url</th>\n",
              "      <td>325786</td>\n",
              "      <td>50.195661</td>\n",
              "      <td>object</td>\n",
              "    </tr>\n",
              "    <tr>\n",
              "      <th>employee_count</th>\n",
              "      <td>10</td>\n",
              "      <td>0.000000</td>\n",
              "      <td>object</td>\n",
              "    </tr>\n",
              "  </tbody>\n",
              "</table>\n",
              "</div>\n",
              "      <button class=\"colab-df-convert\" onclick=\"convertToInteractive('df-60055d08-00a6-46de-81df-faf8f308c719')\"\n",
              "              title=\"Convert this dataframe to an interactive table.\"\n",
              "              style=\"display:none;\">\n",
              "        \n",
              "  <svg xmlns=\"http://www.w3.org/2000/svg\" height=\"24px\"viewBox=\"0 0 24 24\"\n",
              "       width=\"24px\">\n",
              "    <path d=\"M0 0h24v24H0V0z\" fill=\"none\"/>\n",
              "    <path d=\"M18.56 5.44l.94 2.06.94-2.06 2.06-.94-2.06-.94-.94-2.06-.94 2.06-2.06.94zm-11 1L8.5 8.5l.94-2.06 2.06-.94-2.06-.94L8.5 2.5l-.94 2.06-2.06.94zm10 10l.94 2.06.94-2.06 2.06-.94-2.06-.94-.94-2.06-.94 2.06-2.06.94z\"/><path d=\"M17.41 7.96l-1.37-1.37c-.4-.4-.92-.59-1.43-.59-.52 0-1.04.2-1.43.59L10.3 9.45l-7.72 7.72c-.78.78-.78 2.05 0 2.83L4 21.41c.39.39.9.59 1.41.59.51 0 1.02-.2 1.41-.59l7.78-7.78 2.81-2.81c.8-.78.8-2.07 0-2.86zM5.41 20L4 18.59l7.72-7.72 1.47 1.35L5.41 20z\"/>\n",
              "  </svg>\n",
              "      </button>\n",
              "      \n",
              "  <style>\n",
              "    .colab-df-container {\n",
              "      display:flex;\n",
              "      flex-wrap:wrap;\n",
              "      gap: 12px;\n",
              "    }\n",
              "\n",
              "    .colab-df-convert {\n",
              "      background-color: #E8F0FE;\n",
              "      border: none;\n",
              "      border-radius: 50%;\n",
              "      cursor: pointer;\n",
              "      display: none;\n",
              "      fill: #1967D2;\n",
              "      height: 32px;\n",
              "      padding: 0 0 0 0;\n",
              "      width: 32px;\n",
              "    }\n",
              "\n",
              "    .colab-df-convert:hover {\n",
              "      background-color: #E2EBFA;\n",
              "      box-shadow: 0px 1px 2px rgba(60, 64, 67, 0.3), 0px 1px 3px 1px rgba(60, 64, 67, 0.15);\n",
              "      fill: #174EA6;\n",
              "    }\n",
              "\n",
              "    [theme=dark] .colab-df-convert {\n",
              "      background-color: #3B4455;\n",
              "      fill: #D2E3FC;\n",
              "    }\n",
              "\n",
              "    [theme=dark] .colab-df-convert:hover {\n",
              "      background-color: #434B5C;\n",
              "      box-shadow: 0px 1px 3px 1px rgba(0, 0, 0, 0.15);\n",
              "      filter: drop-shadow(0px 1px 2px rgba(0, 0, 0, 0.3));\n",
              "      fill: #FFFFFF;\n",
              "    }\n",
              "  </style>\n",
              "\n",
              "      <script>\n",
              "        const buttonEl =\n",
              "          document.querySelector('#df-60055d08-00a6-46de-81df-faf8f308c719 button.colab-df-convert');\n",
              "        buttonEl.style.display =\n",
              "          google.colab.kernel.accessAllowed ? 'block' : 'none';\n",
              "\n",
              "        async function convertToInteractive(key) {\n",
              "          const element = document.querySelector('#df-60055d08-00a6-46de-81df-faf8f308c719');\n",
              "          const dataTable =\n",
              "            await google.colab.kernel.invokeFunction('convertToInteractive',\n",
              "                                                     [key], {});\n",
              "          if (!dataTable) return;\n",
              "\n",
              "          const docLinkHtml = 'Like what you see? Visit the ' +\n",
              "            '<a target=\"_blank\" href=https://colab.research.google.com/notebooks/data_table.ipynb>data table notebook</a>'\n",
              "            + ' to learn more about interactive tables.';\n",
              "          element.innerHTML = '';\n",
              "          dataTable['output_type'] = 'display_data';\n",
              "          await google.colab.output.renderOutput(dataTable, element);\n",
              "          const docLink = document.createElement('div');\n",
              "          docLink.innerHTML = docLinkHtml;\n",
              "          element.appendChild(docLink);\n",
              "        }\n",
              "      </script>\n",
              "    </div>\n",
              "  </div>\n",
              "  "
            ]
          },
          "metadata": {},
          "execution_count": 9
        }
      ],
      "source": [
        "categorical = list(filter(lambda x: df[x].dtype=='object',df.columns))\n",
        "\n",
        "def show_stats(dataframe, columns):\n",
        "    stat = {}\n",
        "    for col in columns:\n",
        "        stat[col] =  [dataframe[col].nunique(), dataframe[col].isna().mean()*100, dataframe[col].dtype]\n",
        "    return pd.DataFrame.from_dict(stat, orient='index', columns=['Unique',  'Missing values in %', 'DType'])\n",
        "show_stats(df, categorical)"
      ]
    },
    {
      "cell_type": "code",
      "execution_count": null,
      "metadata": {
        "id": "sH-uiR-LJNp7"
      },
      "outputs": [],
      "source": [
        "# Keep only uuids in `df`\n",
        "uuids = df['uuid'].tolist()\n",
        "people = people[people['featured_job_organization_uuid'].isin(uuids)]\n",
        "funding_rounds = funding_rounds[funding_rounds['org_uuid'].isin(uuids)]\n",
        "# jobs = jobs[jobs['org_uuid'].isin(uuids)]"
      ]
    },
    {
      "cell_type": "code",
      "execution_count": null,
      "metadata": {
        "colab": {
          "base_uri": "https://localhost:8080/"
        },
        "id": "eJuEIlX-6Rs8",
        "outputId": "e0d9e7f2-90e5-4f12-b0b4-ff14918c313c"
      },
      "outputs": [
        {
          "output_type": "execute_result",
          "data": {
            "text/plain": [
              "192295"
            ]
          },
          "metadata": {},
          "execution_count": 11
        }
      ],
      "source": [
        "people.featured_job_organization_uuid.nunique()"
      ]
    },
    {
      "cell_type": "code",
      "execution_count": null,
      "metadata": {
        "colab": {
          "base_uri": "https://localhost:8080/",
          "height": 423
        },
        "id": "MHj1IC5D4je1",
        "outputId": "9625f0bb-a8f4-44f3-dea4-53ada82a7715"
      },
      "outputs": [
        {
          "output_type": "execute_result",
          "data": {
            "text/plain": [
              "                                         uuid  gender  \\\n",
              "8        d3ae96f0-4442-720f-1ec2-fc28eac94e53    male   \n",
              "21       b0e4e511-a1f1-162d-005a-006a94ee35f6    male   \n",
              "22       b9ef118c-9258-b287-3107-59c6f3625134    male   \n",
              "23       1a9f5046-024a-4656-d5c9-7526c8665b61    male   \n",
              "31       66728421-e17b-2f25-b41c-8c0be6f2ced3    male   \n",
              "...                                       ...     ...   \n",
              "1663003  2dfce712-19f8-4bde-9abb-8462486a0ec0    male   \n",
              "1663005  f72f23e6-f9a6-413b-9ece-670b43e03ea2    male   \n",
              "1663021  4fca0c2a-1c79-4a19-8bda-b25d30916500  female   \n",
              "1663022  a3e7f3c5-ab3b-436c-9b19-dbe88de0609b  female   \n",
              "1663028  4dca8b96-b415-40a4-ab97-8f0f111c85dd    male   \n",
              "\n",
              "               featured_job_organization_uuid  \\\n",
              "8        a08dd843-1fd4-458c-89c5-d09576679836   \n",
              "21       904a716a-93d3-4456-9543-70fcf381e268   \n",
              "22       516031a1-becf-71e6-0605-3a0b66669ccb   \n",
              "23       da43494a-5084-4247-81d2-0aaf8ab6fc06   \n",
              "31       5b6f80e2-59c2-0e8a-d03e-954c96f3e306   \n",
              "...                                       ...   \n",
              "1663003  15f2cd7c-370c-410e-991a-844649f0135e   \n",
              "1663005  f8efe8e0-c66c-44e2-833f-f3ff009d3312   \n",
              "1663021  72e9d6fb-9931-44c8-9f92-16070d3decd2   \n",
              "1663022  72e9d6fb-9931-44c8-9f92-16070d3decd2   \n",
              "1663028  ffd2c0af-251a-4d45-acc7-dc732f9aedfb   \n",
              "\n",
              "                                        featured_job_title  \n",
              "8                             Founder and Managing Partner  \n",
              "21                                    Co-Founder & Partner  \n",
              "22                                                     CEO  \n",
              "23                                        Managing Partner  \n",
              "31                                      Co-founder and CEO  \n",
              "...                                                    ...  \n",
              "1663003                                    Founder and CEO  \n",
              "1663005                                  Founder & Partner  \n",
              "1663021  Co-Founder, Chief Executive Officer, and Presi...  \n",
              "1663022                Chief Operating Officer, Co-Founder  \n",
              "1663028                            Chief Financial Officer  \n",
              "\n",
              "[361895 rows x 4 columns]"
            ],
            "text/html": [
              "\n",
              "  <div id=\"df-4a149c28-73fa-420f-9d75-f17674af31fb\">\n",
              "    <div class=\"colab-df-container\">\n",
              "      <div>\n",
              "<style scoped>\n",
              "    .dataframe tbody tr th:only-of-type {\n",
              "        vertical-align: middle;\n",
              "    }\n",
              "\n",
              "    .dataframe tbody tr th {\n",
              "        vertical-align: top;\n",
              "    }\n",
              "\n",
              "    .dataframe thead th {\n",
              "        text-align: right;\n",
              "    }\n",
              "</style>\n",
              "<table border=\"1\" class=\"dataframe\">\n",
              "  <thead>\n",
              "    <tr style=\"text-align: right;\">\n",
              "      <th></th>\n",
              "      <th>uuid</th>\n",
              "      <th>gender</th>\n",
              "      <th>featured_job_organization_uuid</th>\n",
              "      <th>featured_job_title</th>\n",
              "    </tr>\n",
              "  </thead>\n",
              "  <tbody>\n",
              "    <tr>\n",
              "      <th>8</th>\n",
              "      <td>d3ae96f0-4442-720f-1ec2-fc28eac94e53</td>\n",
              "      <td>male</td>\n",
              "      <td>a08dd843-1fd4-458c-89c5-d09576679836</td>\n",
              "      <td>Founder and Managing Partner</td>\n",
              "    </tr>\n",
              "    <tr>\n",
              "      <th>21</th>\n",
              "      <td>b0e4e511-a1f1-162d-005a-006a94ee35f6</td>\n",
              "      <td>male</td>\n",
              "      <td>904a716a-93d3-4456-9543-70fcf381e268</td>\n",
              "      <td>Co-Founder &amp; Partner</td>\n",
              "    </tr>\n",
              "    <tr>\n",
              "      <th>22</th>\n",
              "      <td>b9ef118c-9258-b287-3107-59c6f3625134</td>\n",
              "      <td>male</td>\n",
              "      <td>516031a1-becf-71e6-0605-3a0b66669ccb</td>\n",
              "      <td>CEO</td>\n",
              "    </tr>\n",
              "    <tr>\n",
              "      <th>23</th>\n",
              "      <td>1a9f5046-024a-4656-d5c9-7526c8665b61</td>\n",
              "      <td>male</td>\n",
              "      <td>da43494a-5084-4247-81d2-0aaf8ab6fc06</td>\n",
              "      <td>Managing Partner</td>\n",
              "    </tr>\n",
              "    <tr>\n",
              "      <th>31</th>\n",
              "      <td>66728421-e17b-2f25-b41c-8c0be6f2ced3</td>\n",
              "      <td>male</td>\n",
              "      <td>5b6f80e2-59c2-0e8a-d03e-954c96f3e306</td>\n",
              "      <td>Co-founder and CEO</td>\n",
              "    </tr>\n",
              "    <tr>\n",
              "      <th>...</th>\n",
              "      <td>...</td>\n",
              "      <td>...</td>\n",
              "      <td>...</td>\n",
              "      <td>...</td>\n",
              "    </tr>\n",
              "    <tr>\n",
              "      <th>1663003</th>\n",
              "      <td>2dfce712-19f8-4bde-9abb-8462486a0ec0</td>\n",
              "      <td>male</td>\n",
              "      <td>15f2cd7c-370c-410e-991a-844649f0135e</td>\n",
              "      <td>Founder and CEO</td>\n",
              "    </tr>\n",
              "    <tr>\n",
              "      <th>1663005</th>\n",
              "      <td>f72f23e6-f9a6-413b-9ece-670b43e03ea2</td>\n",
              "      <td>male</td>\n",
              "      <td>f8efe8e0-c66c-44e2-833f-f3ff009d3312</td>\n",
              "      <td>Founder &amp; Partner</td>\n",
              "    </tr>\n",
              "    <tr>\n",
              "      <th>1663021</th>\n",
              "      <td>4fca0c2a-1c79-4a19-8bda-b25d30916500</td>\n",
              "      <td>female</td>\n",
              "      <td>72e9d6fb-9931-44c8-9f92-16070d3decd2</td>\n",
              "      <td>Co-Founder, Chief Executive Officer, and Presi...</td>\n",
              "    </tr>\n",
              "    <tr>\n",
              "      <th>1663022</th>\n",
              "      <td>a3e7f3c5-ab3b-436c-9b19-dbe88de0609b</td>\n",
              "      <td>female</td>\n",
              "      <td>72e9d6fb-9931-44c8-9f92-16070d3decd2</td>\n",
              "      <td>Chief Operating Officer, Co-Founder</td>\n",
              "    </tr>\n",
              "    <tr>\n",
              "      <th>1663028</th>\n",
              "      <td>4dca8b96-b415-40a4-ab97-8f0f111c85dd</td>\n",
              "      <td>male</td>\n",
              "      <td>ffd2c0af-251a-4d45-acc7-dc732f9aedfb</td>\n",
              "      <td>Chief Financial Officer</td>\n",
              "    </tr>\n",
              "  </tbody>\n",
              "</table>\n",
              "<p>361895 rows × 4 columns</p>\n",
              "</div>\n",
              "      <button class=\"colab-df-convert\" onclick=\"convertToInteractive('df-4a149c28-73fa-420f-9d75-f17674af31fb')\"\n",
              "              title=\"Convert this dataframe to an interactive table.\"\n",
              "              style=\"display:none;\">\n",
              "        \n",
              "  <svg xmlns=\"http://www.w3.org/2000/svg\" height=\"24px\"viewBox=\"0 0 24 24\"\n",
              "       width=\"24px\">\n",
              "    <path d=\"M0 0h24v24H0V0z\" fill=\"none\"/>\n",
              "    <path d=\"M18.56 5.44l.94 2.06.94-2.06 2.06-.94-2.06-.94-.94-2.06-.94 2.06-2.06.94zm-11 1L8.5 8.5l.94-2.06 2.06-.94-2.06-.94L8.5 2.5l-.94 2.06-2.06.94zm10 10l.94 2.06.94-2.06 2.06-.94-2.06-.94-.94-2.06-.94 2.06-2.06.94z\"/><path d=\"M17.41 7.96l-1.37-1.37c-.4-.4-.92-.59-1.43-.59-.52 0-1.04.2-1.43.59L10.3 9.45l-7.72 7.72c-.78.78-.78 2.05 0 2.83L4 21.41c.39.39.9.59 1.41.59.51 0 1.02-.2 1.41-.59l7.78-7.78 2.81-2.81c.8-.78.8-2.07 0-2.86zM5.41 20L4 18.59l7.72-7.72 1.47 1.35L5.41 20z\"/>\n",
              "  </svg>\n",
              "      </button>\n",
              "      \n",
              "  <style>\n",
              "    .colab-df-container {\n",
              "      display:flex;\n",
              "      flex-wrap:wrap;\n",
              "      gap: 12px;\n",
              "    }\n",
              "\n",
              "    .colab-df-convert {\n",
              "      background-color: #E8F0FE;\n",
              "      border: none;\n",
              "      border-radius: 50%;\n",
              "      cursor: pointer;\n",
              "      display: none;\n",
              "      fill: #1967D2;\n",
              "      height: 32px;\n",
              "      padding: 0 0 0 0;\n",
              "      width: 32px;\n",
              "    }\n",
              "\n",
              "    .colab-df-convert:hover {\n",
              "      background-color: #E2EBFA;\n",
              "      box-shadow: 0px 1px 2px rgba(60, 64, 67, 0.3), 0px 1px 3px 1px rgba(60, 64, 67, 0.15);\n",
              "      fill: #174EA6;\n",
              "    }\n",
              "\n",
              "    [theme=dark] .colab-df-convert {\n",
              "      background-color: #3B4455;\n",
              "      fill: #D2E3FC;\n",
              "    }\n",
              "\n",
              "    [theme=dark] .colab-df-convert:hover {\n",
              "      background-color: #434B5C;\n",
              "      box-shadow: 0px 1px 3px 1px rgba(0, 0, 0, 0.15);\n",
              "      filter: drop-shadow(0px 1px 2px rgba(0, 0, 0, 0.3));\n",
              "      fill: #FFFFFF;\n",
              "    }\n",
              "  </style>\n",
              "\n",
              "      <script>\n",
              "        const buttonEl =\n",
              "          document.querySelector('#df-4a149c28-73fa-420f-9d75-f17674af31fb button.colab-df-convert');\n",
              "        buttonEl.style.display =\n",
              "          google.colab.kernel.accessAllowed ? 'block' : 'none';\n",
              "\n",
              "        async function convertToInteractive(key) {\n",
              "          const element = document.querySelector('#df-4a149c28-73fa-420f-9d75-f17674af31fb');\n",
              "          const dataTable =\n",
              "            await google.colab.kernel.invokeFunction('convertToInteractive',\n",
              "                                                     [key], {});\n",
              "          if (!dataTable) return;\n",
              "\n",
              "          const docLinkHtml = 'Like what you see? Visit the ' +\n",
              "            '<a target=\"_blank\" href=https://colab.research.google.com/notebooks/data_table.ipynb>data table notebook</a>'\n",
              "            + ' to learn more about interactive tables.';\n",
              "          element.innerHTML = '';\n",
              "          dataTable['output_type'] = 'display_data';\n",
              "          await google.colab.output.renderOutput(dataTable, element);\n",
              "          const docLink = document.createElement('div');\n",
              "          docLink.innerHTML = docLinkHtml;\n",
              "          element.appendChild(docLink);\n",
              "        }\n",
              "      </script>\n",
              "    </div>\n",
              "  </div>\n",
              "  "
            ]
          },
          "metadata": {},
          "execution_count": 12
        }
      ],
      "source": [
        "people = people[['uuid', 'gender', 'featured_job_organization_uuid', 'featured_job_title']]\n",
        "people"
      ]
    },
    {
      "cell_type": "code",
      "execution_count": null,
      "metadata": {
        "id": "jSQgxj3GG6Bx"
      },
      "outputs": [],
      "source": [
        "num_senior = people.groupby('featured_job_organization_uuid')['uuid'].transform('count')\n",
        "people['num_seniors'] = num_senior"
      ]
    },
    {
      "cell_type": "code",
      "execution_count": null,
      "metadata": {
        "id": "8iWoVjUP8o07"
      },
      "outputs": [],
      "source": [
        "# Calculate the number of males in senior positions for each organization\n",
        "male_data = people.loc[people['gender'] == 'male']\n",
        "male_counts = male_data.groupby('featured_job_organization_uuid')['gender'].count()\n",
        "male_counts = male_counts.reindex(people['featured_job_organization_uuid'].unique(), fill_value=0)\n",
        "\n",
        "# Calculate the male ratio for each organization\n",
        "people['male_senior_ratio'] = male_counts.loc[people['featured_job_organization_uuid']].values / people['num_seniors']\n",
        "people['male_senior_ratio'] = people['male_senior_ratio'].fillna(0).round(2)  # Fill NaN with 0 and round to 2 decimal places"
      ]
    },
    {
      "cell_type": "code",
      "execution_count": null,
      "metadata": {
        "id": "321hcRC98N_c",
        "colab": {
          "base_uri": "https://localhost:8080/"
        },
        "outputId": "3d1a7d31-d41c-4015-e793-bb02255ea64e"
      },
      "outputs": [
        {
          "output_type": "execute_result",
          "data": {
            "text/plain": [
              "featured_job_title\n",
              "Founder                                             22866\n",
              "Co-Founder                                          22021\n",
              "CEO                                                 18751\n",
              "Founder & CEO                                       13070\n",
              "Founder and CEO                                     10507\n",
              "                                                    ...  \n",
              "Content Marketing Lead & SEO Strategist                 1\n",
              "Content Marketing Lead & Writer                         1\n",
              "Content Marketing Manager, Author                       1\n",
              "Content Marketing Senior Associate                      1\n",
              "🥇Freelance Growth | Lead Generation | Automation        1\n",
              "Name: uuid, Length: 63189, dtype: int64"
            ]
          },
          "metadata": {},
          "execution_count": 15
        }
      ],
      "source": [
        "people.groupby('featured_job_title')['uuid'].count().sort_values(ascending=False)"
      ]
    },
    {
      "cell_type": "code",
      "execution_count": null,
      "metadata": {
        "id": "Xy1V2AAj8yKU"
      },
      "outputs": [],
      "source": [
        "people['is_lead'] = people['featured_job_title'].apply(lambda x: ('founder' in str(x).lower() or 'co-founder' in str(x).lower()) or 'ceo' in str(x).lower() or 'Chairman' in str(x).lower() or 'Chief Executive Officer' in str(x).lower())"
      ]
    },
    {
      "cell_type": "code",
      "execution_count": null,
      "metadata": {
        "colab": {
          "base_uri": "https://localhost:8080/",
          "height": 423
        },
        "id": "tKkrcgnT8zh-",
        "outputId": "cce2b1ab-3e16-414a-bc11-58150822622e"
      },
      "outputs": [
        {
          "output_type": "execute_result",
          "data": {
            "text/plain": [
              "                                         uuid  gender  \\\n",
              "8        d3ae96f0-4442-720f-1ec2-fc28eac94e53    male   \n",
              "21       b0e4e511-a1f1-162d-005a-006a94ee35f6    male   \n",
              "22       b9ef118c-9258-b287-3107-59c6f3625134    male   \n",
              "31       66728421-e17b-2f25-b41c-8c0be6f2ced3    male   \n",
              "53       74f1fa36-db52-71fe-c693-6212d48c5df7  female   \n",
              "...                                       ...     ...   \n",
              "1662968  f8d780d3-84dd-421c-92c5-a4bf6f595f0b     NaN   \n",
              "1663003  2dfce712-19f8-4bde-9abb-8462486a0ec0    male   \n",
              "1663005  f72f23e6-f9a6-413b-9ece-670b43e03ea2    male   \n",
              "1663021  4fca0c2a-1c79-4a19-8bda-b25d30916500  female   \n",
              "1663022  a3e7f3c5-ab3b-436c-9b19-dbe88de0609b  female   \n",
              "\n",
              "               featured_job_organization_uuid  \\\n",
              "8        a08dd843-1fd4-458c-89c5-d09576679836   \n",
              "21       904a716a-93d3-4456-9543-70fcf381e268   \n",
              "22       516031a1-becf-71e6-0605-3a0b66669ccb   \n",
              "31       5b6f80e2-59c2-0e8a-d03e-954c96f3e306   \n",
              "53       c8e38c2b-4c58-4794-9e8c-49bcc15b1c9c   \n",
              "...                                       ...   \n",
              "1662968  33ab3206-df42-43ad-8740-cc67aa4105b6   \n",
              "1663003  15f2cd7c-370c-410e-991a-844649f0135e   \n",
              "1663005  f8efe8e0-c66c-44e2-833f-f3ff009d3312   \n",
              "1663021  72e9d6fb-9931-44c8-9f92-16070d3decd2   \n",
              "1663022  72e9d6fb-9931-44c8-9f92-16070d3decd2   \n",
              "\n",
              "                                        featured_job_title  num_seniors  \\\n",
              "8                             Founder and Managing Partner            3   \n",
              "21                                    Co-Founder & Partner           29   \n",
              "22                                                     CEO            5   \n",
              "31                                      Co-founder and CEO            1   \n",
              "53                                                     CEO            3   \n",
              "...                                                    ...          ...   \n",
              "1662968                                            Founder            1   \n",
              "1663003                                    Founder and CEO            1   \n",
              "1663005                                  Founder & Partner            1   \n",
              "1663021  Co-Founder, Chief Executive Officer, and Presi...            2   \n",
              "1663022                Chief Operating Officer, Co-Founder            2   \n",
              "\n",
              "         male_senior_ratio  is_lead  \n",
              "8                     1.00     True  \n",
              "21                    0.59     True  \n",
              "22                    0.40     True  \n",
              "31                    1.00     True  \n",
              "53                    0.67     True  \n",
              "...                    ...      ...  \n",
              "1662968               0.00     True  \n",
              "1663003               1.00     True  \n",
              "1663005               1.00     True  \n",
              "1663021               0.00     True  \n",
              "1663022               0.00     True  \n",
              "\n",
              "[217173 rows x 7 columns]"
            ],
            "text/html": [
              "\n",
              "  <div id=\"df-57389953-e75f-4542-9ba2-e3228ecfdd42\">\n",
              "    <div class=\"colab-df-container\">\n",
              "      <div>\n",
              "<style scoped>\n",
              "    .dataframe tbody tr th:only-of-type {\n",
              "        vertical-align: middle;\n",
              "    }\n",
              "\n",
              "    .dataframe tbody tr th {\n",
              "        vertical-align: top;\n",
              "    }\n",
              "\n",
              "    .dataframe thead th {\n",
              "        text-align: right;\n",
              "    }\n",
              "</style>\n",
              "<table border=\"1\" class=\"dataframe\">\n",
              "  <thead>\n",
              "    <tr style=\"text-align: right;\">\n",
              "      <th></th>\n",
              "      <th>uuid</th>\n",
              "      <th>gender</th>\n",
              "      <th>featured_job_organization_uuid</th>\n",
              "      <th>featured_job_title</th>\n",
              "      <th>num_seniors</th>\n",
              "      <th>male_senior_ratio</th>\n",
              "      <th>is_lead</th>\n",
              "    </tr>\n",
              "  </thead>\n",
              "  <tbody>\n",
              "    <tr>\n",
              "      <th>8</th>\n",
              "      <td>d3ae96f0-4442-720f-1ec2-fc28eac94e53</td>\n",
              "      <td>male</td>\n",
              "      <td>a08dd843-1fd4-458c-89c5-d09576679836</td>\n",
              "      <td>Founder and Managing Partner</td>\n",
              "      <td>3</td>\n",
              "      <td>1.00</td>\n",
              "      <td>True</td>\n",
              "    </tr>\n",
              "    <tr>\n",
              "      <th>21</th>\n",
              "      <td>b0e4e511-a1f1-162d-005a-006a94ee35f6</td>\n",
              "      <td>male</td>\n",
              "      <td>904a716a-93d3-4456-9543-70fcf381e268</td>\n",
              "      <td>Co-Founder &amp; Partner</td>\n",
              "      <td>29</td>\n",
              "      <td>0.59</td>\n",
              "      <td>True</td>\n",
              "    </tr>\n",
              "    <tr>\n",
              "      <th>22</th>\n",
              "      <td>b9ef118c-9258-b287-3107-59c6f3625134</td>\n",
              "      <td>male</td>\n",
              "      <td>516031a1-becf-71e6-0605-3a0b66669ccb</td>\n",
              "      <td>CEO</td>\n",
              "      <td>5</td>\n",
              "      <td>0.40</td>\n",
              "      <td>True</td>\n",
              "    </tr>\n",
              "    <tr>\n",
              "      <th>31</th>\n",
              "      <td>66728421-e17b-2f25-b41c-8c0be6f2ced3</td>\n",
              "      <td>male</td>\n",
              "      <td>5b6f80e2-59c2-0e8a-d03e-954c96f3e306</td>\n",
              "      <td>Co-founder and CEO</td>\n",
              "      <td>1</td>\n",
              "      <td>1.00</td>\n",
              "      <td>True</td>\n",
              "    </tr>\n",
              "    <tr>\n",
              "      <th>53</th>\n",
              "      <td>74f1fa36-db52-71fe-c693-6212d48c5df7</td>\n",
              "      <td>female</td>\n",
              "      <td>c8e38c2b-4c58-4794-9e8c-49bcc15b1c9c</td>\n",
              "      <td>CEO</td>\n",
              "      <td>3</td>\n",
              "      <td>0.67</td>\n",
              "      <td>True</td>\n",
              "    </tr>\n",
              "    <tr>\n",
              "      <th>...</th>\n",
              "      <td>...</td>\n",
              "      <td>...</td>\n",
              "      <td>...</td>\n",
              "      <td>...</td>\n",
              "      <td>...</td>\n",
              "      <td>...</td>\n",
              "      <td>...</td>\n",
              "    </tr>\n",
              "    <tr>\n",
              "      <th>1662968</th>\n",
              "      <td>f8d780d3-84dd-421c-92c5-a4bf6f595f0b</td>\n",
              "      <td>NaN</td>\n",
              "      <td>33ab3206-df42-43ad-8740-cc67aa4105b6</td>\n",
              "      <td>Founder</td>\n",
              "      <td>1</td>\n",
              "      <td>0.00</td>\n",
              "      <td>True</td>\n",
              "    </tr>\n",
              "    <tr>\n",
              "      <th>1663003</th>\n",
              "      <td>2dfce712-19f8-4bde-9abb-8462486a0ec0</td>\n",
              "      <td>male</td>\n",
              "      <td>15f2cd7c-370c-410e-991a-844649f0135e</td>\n",
              "      <td>Founder and CEO</td>\n",
              "      <td>1</td>\n",
              "      <td>1.00</td>\n",
              "      <td>True</td>\n",
              "    </tr>\n",
              "    <tr>\n",
              "      <th>1663005</th>\n",
              "      <td>f72f23e6-f9a6-413b-9ece-670b43e03ea2</td>\n",
              "      <td>male</td>\n",
              "      <td>f8efe8e0-c66c-44e2-833f-f3ff009d3312</td>\n",
              "      <td>Founder &amp; Partner</td>\n",
              "      <td>1</td>\n",
              "      <td>1.00</td>\n",
              "      <td>True</td>\n",
              "    </tr>\n",
              "    <tr>\n",
              "      <th>1663021</th>\n",
              "      <td>4fca0c2a-1c79-4a19-8bda-b25d30916500</td>\n",
              "      <td>female</td>\n",
              "      <td>72e9d6fb-9931-44c8-9f92-16070d3decd2</td>\n",
              "      <td>Co-Founder, Chief Executive Officer, and Presi...</td>\n",
              "      <td>2</td>\n",
              "      <td>0.00</td>\n",
              "      <td>True</td>\n",
              "    </tr>\n",
              "    <tr>\n",
              "      <th>1663022</th>\n",
              "      <td>a3e7f3c5-ab3b-436c-9b19-dbe88de0609b</td>\n",
              "      <td>female</td>\n",
              "      <td>72e9d6fb-9931-44c8-9f92-16070d3decd2</td>\n",
              "      <td>Chief Operating Officer, Co-Founder</td>\n",
              "      <td>2</td>\n",
              "      <td>0.00</td>\n",
              "      <td>True</td>\n",
              "    </tr>\n",
              "  </tbody>\n",
              "</table>\n",
              "<p>217173 rows × 7 columns</p>\n",
              "</div>\n",
              "      <button class=\"colab-df-convert\" onclick=\"convertToInteractive('df-57389953-e75f-4542-9ba2-e3228ecfdd42')\"\n",
              "              title=\"Convert this dataframe to an interactive table.\"\n",
              "              style=\"display:none;\">\n",
              "        \n",
              "  <svg xmlns=\"http://www.w3.org/2000/svg\" height=\"24px\"viewBox=\"0 0 24 24\"\n",
              "       width=\"24px\">\n",
              "    <path d=\"M0 0h24v24H0V0z\" fill=\"none\"/>\n",
              "    <path d=\"M18.56 5.44l.94 2.06.94-2.06 2.06-.94-2.06-.94-.94-2.06-.94 2.06-2.06.94zm-11 1L8.5 8.5l.94-2.06 2.06-.94-2.06-.94L8.5 2.5l-.94 2.06-2.06.94zm10 10l.94 2.06.94-2.06 2.06-.94-2.06-.94-.94-2.06-.94 2.06-2.06.94z\"/><path d=\"M17.41 7.96l-1.37-1.37c-.4-.4-.92-.59-1.43-.59-.52 0-1.04.2-1.43.59L10.3 9.45l-7.72 7.72c-.78.78-.78 2.05 0 2.83L4 21.41c.39.39.9.59 1.41.59.51 0 1.02-.2 1.41-.59l7.78-7.78 2.81-2.81c.8-.78.8-2.07 0-2.86zM5.41 20L4 18.59l7.72-7.72 1.47 1.35L5.41 20z\"/>\n",
              "  </svg>\n",
              "      </button>\n",
              "      \n",
              "  <style>\n",
              "    .colab-df-container {\n",
              "      display:flex;\n",
              "      flex-wrap:wrap;\n",
              "      gap: 12px;\n",
              "    }\n",
              "\n",
              "    .colab-df-convert {\n",
              "      background-color: #E8F0FE;\n",
              "      border: none;\n",
              "      border-radius: 50%;\n",
              "      cursor: pointer;\n",
              "      display: none;\n",
              "      fill: #1967D2;\n",
              "      height: 32px;\n",
              "      padding: 0 0 0 0;\n",
              "      width: 32px;\n",
              "    }\n",
              "\n",
              "    .colab-df-convert:hover {\n",
              "      background-color: #E2EBFA;\n",
              "      box-shadow: 0px 1px 2px rgba(60, 64, 67, 0.3), 0px 1px 3px 1px rgba(60, 64, 67, 0.15);\n",
              "      fill: #174EA6;\n",
              "    }\n",
              "\n",
              "    [theme=dark] .colab-df-convert {\n",
              "      background-color: #3B4455;\n",
              "      fill: #D2E3FC;\n",
              "    }\n",
              "\n",
              "    [theme=dark] .colab-df-convert:hover {\n",
              "      background-color: #434B5C;\n",
              "      box-shadow: 0px 1px 3px 1px rgba(0, 0, 0, 0.15);\n",
              "      filter: drop-shadow(0px 1px 2px rgba(0, 0, 0, 0.3));\n",
              "      fill: #FFFFFF;\n",
              "    }\n",
              "  </style>\n",
              "\n",
              "      <script>\n",
              "        const buttonEl =\n",
              "          document.querySelector('#df-57389953-e75f-4542-9ba2-e3228ecfdd42 button.colab-df-convert');\n",
              "        buttonEl.style.display =\n",
              "          google.colab.kernel.accessAllowed ? 'block' : 'none';\n",
              "\n",
              "        async function convertToInteractive(key) {\n",
              "          const element = document.querySelector('#df-57389953-e75f-4542-9ba2-e3228ecfdd42');\n",
              "          const dataTable =\n",
              "            await google.colab.kernel.invokeFunction('convertToInteractive',\n",
              "                                                     [key], {});\n",
              "          if (!dataTable) return;\n",
              "\n",
              "          const docLinkHtml = 'Like what you see? Visit the ' +\n",
              "            '<a target=\"_blank\" href=https://colab.research.google.com/notebooks/data_table.ipynb>data table notebook</a>'\n",
              "            + ' to learn more about interactive tables.';\n",
              "          element.innerHTML = '';\n",
              "          dataTable['output_type'] = 'display_data';\n",
              "          await google.colab.output.renderOutput(dataTable, element);\n",
              "          const docLink = document.createElement('div');\n",
              "          docLink.innerHTML = docLinkHtml;\n",
              "          element.appendChild(docLink);\n",
              "        }\n",
              "      </script>\n",
              "    </div>\n",
              "  </div>\n",
              "  "
            ]
          },
          "metadata": {},
          "execution_count": 17
        }
      ],
      "source": [
        "people.loc[people.is_lead == True]"
      ]
    },
    {
      "cell_type": "code",
      "execution_count": null,
      "metadata": {
        "id": "Our5Rc0B9ptH"
      },
      "outputs": [],
      "source": [
        "people = people.loc[people['is_lead'], :]"
      ]
    },
    {
      "cell_type": "code",
      "execution_count": null,
      "metadata": {
        "id": "hWsrMqDM-khx"
      },
      "outputs": [],
      "source": [
        "people = people.groupby('featured_job_organization_uuid').first().reset_index()"
      ]
    },
    {
      "cell_type": "code",
      "execution_count": null,
      "metadata": {
        "id": "gDk28Ar_S9_Q",
        "colab": {
          "base_uri": "https://localhost:8080/"
        },
        "outputId": "defe3092-f5b1-49dd-8c24-f66a1be01aab"
      },
      "outputs": [
        {
          "output_type": "execute_result",
          "data": {
            "text/plain": [
              "1.0"
            ]
          },
          "metadata": {},
          "execution_count": 20
        }
      ],
      "source": [
        "people.groupby('featured_job_organization_uuid')['uuid'].count().mean()"
      ]
    },
    {
      "cell_type": "code",
      "execution_count": null,
      "metadata": {
        "id": "1e4qY6e4OU2Q",
        "colab": {
          "base_uri": "https://localhost:8080/"
        },
        "outputId": "835d9eaf-e2ce-4903-cff9-d9a49378502d"
      },
      "outputs": [
        {
          "output_type": "execute_result",
          "data": {
            "text/plain": [
              "155633"
            ]
          },
          "metadata": {},
          "execution_count": 21
        }
      ],
      "source": [
        "people.featured_job_organization_uuid.nunique()"
      ]
    },
    {
      "cell_type": "markdown",
      "metadata": {
        "id": "XqDuqop4KIdL"
      },
      "source": [
        "Let's keep people in the degrees dataframe that are present in the people dataframe"
      ]
    },
    {
      "cell_type": "code",
      "execution_count": null,
      "metadata": {
        "id": "pufm8sfBYUg3"
      },
      "outputs": [],
      "source": [
        "people_uuids = people['uuid'].tolist()\n",
        "degrees = degrees[degrees['person_uuid'].isin(people_uuids)]"
      ]
    },
    {
      "cell_type": "code",
      "execution_count": null,
      "metadata": {
        "id": "ZRxw9uWWZ3Kp"
      },
      "outputs": [],
      "source": [
        "# change the name of the 'uuid' column to 'people_uuid' to avoid any confusion\n",
        "people = people.rename(columns={'uuid': 'people_uuid'})"
      ]
    },
    {
      "cell_type": "code",
      "execution_count": null,
      "metadata": {
        "id": "qudw0D0LerqT",
        "colab": {
          "base_uri": "https://localhost:8080/",
          "height": 175
        },
        "outputId": "a5b7969e-fd27-40ef-83ca-2f3751574ff1"
      },
      "outputs": [
        {
          "output_type": "execute_result",
          "data": {
            "text/plain": [
              "              Unique  Missing values in %   DType\n",
              "uuid          105908             0.000000  object\n",
              "person_uuid    72886             0.000000  object\n",
              "degree_type    11934             6.627450  object\n",
              "completed_on    2358            29.189485  object"
            ],
            "text/html": [
              "\n",
              "  <div id=\"df-5a207485-81f9-45d1-9105-c6bc96ac784c\">\n",
              "    <div class=\"colab-df-container\">\n",
              "      <div>\n",
              "<style scoped>\n",
              "    .dataframe tbody tr th:only-of-type {\n",
              "        vertical-align: middle;\n",
              "    }\n",
              "\n",
              "    .dataframe tbody tr th {\n",
              "        vertical-align: top;\n",
              "    }\n",
              "\n",
              "    .dataframe thead th {\n",
              "        text-align: right;\n",
              "    }\n",
              "</style>\n",
              "<table border=\"1\" class=\"dataframe\">\n",
              "  <thead>\n",
              "    <tr style=\"text-align: right;\">\n",
              "      <th></th>\n",
              "      <th>Unique</th>\n",
              "      <th>Missing values in %</th>\n",
              "      <th>DType</th>\n",
              "    </tr>\n",
              "  </thead>\n",
              "  <tbody>\n",
              "    <tr>\n",
              "      <th>uuid</th>\n",
              "      <td>105908</td>\n",
              "      <td>0.000000</td>\n",
              "      <td>object</td>\n",
              "    </tr>\n",
              "    <tr>\n",
              "      <th>person_uuid</th>\n",
              "      <td>72886</td>\n",
              "      <td>0.000000</td>\n",
              "      <td>object</td>\n",
              "    </tr>\n",
              "    <tr>\n",
              "      <th>degree_type</th>\n",
              "      <td>11934</td>\n",
              "      <td>6.627450</td>\n",
              "      <td>object</td>\n",
              "    </tr>\n",
              "    <tr>\n",
              "      <th>completed_on</th>\n",
              "      <td>2358</td>\n",
              "      <td>29.189485</td>\n",
              "      <td>object</td>\n",
              "    </tr>\n",
              "  </tbody>\n",
              "</table>\n",
              "</div>\n",
              "      <button class=\"colab-df-convert\" onclick=\"convertToInteractive('df-5a207485-81f9-45d1-9105-c6bc96ac784c')\"\n",
              "              title=\"Convert this dataframe to an interactive table.\"\n",
              "              style=\"display:none;\">\n",
              "        \n",
              "  <svg xmlns=\"http://www.w3.org/2000/svg\" height=\"24px\"viewBox=\"0 0 24 24\"\n",
              "       width=\"24px\">\n",
              "    <path d=\"M0 0h24v24H0V0z\" fill=\"none\"/>\n",
              "    <path d=\"M18.56 5.44l.94 2.06.94-2.06 2.06-.94-2.06-.94-.94-2.06-.94 2.06-2.06.94zm-11 1L8.5 8.5l.94-2.06 2.06-.94-2.06-.94L8.5 2.5l-.94 2.06-2.06.94zm10 10l.94 2.06.94-2.06 2.06-.94-2.06-.94-.94-2.06-.94 2.06-2.06.94z\"/><path d=\"M17.41 7.96l-1.37-1.37c-.4-.4-.92-.59-1.43-.59-.52 0-1.04.2-1.43.59L10.3 9.45l-7.72 7.72c-.78.78-.78 2.05 0 2.83L4 21.41c.39.39.9.59 1.41.59.51 0 1.02-.2 1.41-.59l7.78-7.78 2.81-2.81c.8-.78.8-2.07 0-2.86zM5.41 20L4 18.59l7.72-7.72 1.47 1.35L5.41 20z\"/>\n",
              "  </svg>\n",
              "      </button>\n",
              "      \n",
              "  <style>\n",
              "    .colab-df-container {\n",
              "      display:flex;\n",
              "      flex-wrap:wrap;\n",
              "      gap: 12px;\n",
              "    }\n",
              "\n",
              "    .colab-df-convert {\n",
              "      background-color: #E8F0FE;\n",
              "      border: none;\n",
              "      border-radius: 50%;\n",
              "      cursor: pointer;\n",
              "      display: none;\n",
              "      fill: #1967D2;\n",
              "      height: 32px;\n",
              "      padding: 0 0 0 0;\n",
              "      width: 32px;\n",
              "    }\n",
              "\n",
              "    .colab-df-convert:hover {\n",
              "      background-color: #E2EBFA;\n",
              "      box-shadow: 0px 1px 2px rgba(60, 64, 67, 0.3), 0px 1px 3px 1px rgba(60, 64, 67, 0.15);\n",
              "      fill: #174EA6;\n",
              "    }\n",
              "\n",
              "    [theme=dark] .colab-df-convert {\n",
              "      background-color: #3B4455;\n",
              "      fill: #D2E3FC;\n",
              "    }\n",
              "\n",
              "    [theme=dark] .colab-df-convert:hover {\n",
              "      background-color: #434B5C;\n",
              "      box-shadow: 0px 1px 3px 1px rgba(0, 0, 0, 0.15);\n",
              "      filter: drop-shadow(0px 1px 2px rgba(0, 0, 0, 0.3));\n",
              "      fill: #FFFFFF;\n",
              "    }\n",
              "  </style>\n",
              "\n",
              "      <script>\n",
              "        const buttonEl =\n",
              "          document.querySelector('#df-5a207485-81f9-45d1-9105-c6bc96ac784c button.colab-df-convert');\n",
              "        buttonEl.style.display =\n",
              "          google.colab.kernel.accessAllowed ? 'block' : 'none';\n",
              "\n",
              "        async function convertToInteractive(key) {\n",
              "          const element = document.querySelector('#df-5a207485-81f9-45d1-9105-c6bc96ac784c');\n",
              "          const dataTable =\n",
              "            await google.colab.kernel.invokeFunction('convertToInteractive',\n",
              "                                                     [key], {});\n",
              "          if (!dataTable) return;\n",
              "\n",
              "          const docLinkHtml = 'Like what you see? Visit the ' +\n",
              "            '<a target=\"_blank\" href=https://colab.research.google.com/notebooks/data_table.ipynb>data table notebook</a>'\n",
              "            + ' to learn more about interactive tables.';\n",
              "          element.innerHTML = '';\n",
              "          dataTable['output_type'] = 'display_data';\n",
              "          await google.colab.output.renderOutput(dataTable, element);\n",
              "          const docLink = document.createElement('div');\n",
              "          docLink.innerHTML = docLinkHtml;\n",
              "          element.appendChild(docLink);\n",
              "        }\n",
              "      </script>\n",
              "    </div>\n",
              "  </div>\n",
              "  "
            ]
          },
          "metadata": {},
          "execution_count": 24
        }
      ],
      "source": [
        "categorical_degrees = list(filter(lambda x: degrees[x].dtype=='object',degrees.columns))\n",
        "show_stats(degrees, categorical_degrees)"
      ]
    },
    {
      "cell_type": "code",
      "execution_count": null,
      "metadata": {
        "id": "3jpZ6N39aHqu"
      },
      "outputs": [],
      "source": [
        "# Convert completed_on column to datetime\n",
        "degrees['completed_on'] = pd.to_datetime(degrees['completed_on'], errors='coerce')"
      ]
    },
    {
      "cell_type": "code",
      "execution_count": null,
      "metadata": {
        "id": "_UziKFDNlnUR",
        "colab": {
          "base_uri": "https://localhost:8080/"
        },
        "outputId": "94ec3de8-5b39-4129-f2c8-085f4ebe2796"
      },
      "outputs": [
        {
          "output_type": "execute_result",
          "data": {
            "text/plain": [
              "11934"
            ]
          },
          "metadata": {},
          "execution_count": 26
        }
      ],
      "source": [
        "degrees['degree_type'].nunique()"
      ]
    },
    {
      "cell_type": "markdown",
      "metadata": {
        "id": "JlB0mSrJmAHm"
      },
      "source": [
        "There are so many types of degrees. A more reasonable approach would be to count how many degrees each person has. In my opinion, this would be a good reflection of how educated a person is. We are considering number of degrees, whether completed or not because some knowledge can be taken out of a degree even if not completed"
      ]
    },
    {
      "cell_type": "code",
      "execution_count": null,
      "metadata": {
        "id": "wLJDw_CZmLbS"
      },
      "outputs": [],
      "source": [
        "# use groupby and transform to count the number of degrees per person\n",
        "degrees['num_degrees'] = degrees.groupby('person_uuid')['uuid'].transform('count')\n",
        "\n",
        "# drop duplicates and unnecessary columns\n",
        "degrees = degrees.drop_duplicates(subset='person_uuid', keep='first')"
      ]
    },
    {
      "cell_type": "code",
      "execution_count": null,
      "metadata": {
        "id": "c7nWXfCynBn6"
      },
      "outputs": [],
      "source": [
        "degrees = degrees.drop(['degree_type', 'completed_on', 'is_completed'], axis=1)"
      ]
    },
    {
      "cell_type": "code",
      "execution_count": null,
      "metadata": {
        "id": "mblNLRfcbfgZ"
      },
      "outputs": [],
      "source": [
        "# change the name of the 'age' column to 'years'\n",
        "degrees = degrees.rename(columns={'uuid': 'degree_uuid'})"
      ]
    },
    {
      "cell_type": "code",
      "execution_count": null,
      "metadata": {
        "id": "vlpXasYjnTxa",
        "colab": {
          "base_uri": "https://localhost:8080/",
          "height": 423
        },
        "outputId": "23acadae-6e8d-46d8-955f-88aedc1b7cef"
      },
      "outputs": [
        {
          "output_type": "execute_result",
          "data": {
            "text/plain": [
              "                                 degree_uuid  \\\n",
              "162171  224ca2c7-1ebe-be44-f69c-ec41591a3f8a   \n",
              "574161  86b7a546-ddf7-48fc-8a5b-779e9593abaa   \n",
              "535553  fd9bc495-566a-4b15-b4bc-31c33805ec8b   \n",
              "577496  9e51e729-f372-45e9-9f88-6df4ddd1046a   \n",
              "199529  7120c4e3-e4fe-b7b4-742c-ce2e742d9057   \n",
              "...                                      ...   \n",
              "323608  48a409b2-4b1d-4ff3-902e-951e68cd54ad   \n",
              "323616  57592c98-3848-4ab7-a677-5c596827dae7   \n",
              "323626  e38075a0-d0ae-4c8a-acbf-8b7ffafe190b   \n",
              "323627  0cac70db-b0f1-4361-bc65-75cfebe70c5f   \n",
              "725484  85421dcc-19e3-440d-8f2a-3a4a1300f803   \n",
              "\n",
              "                                 person_uuid  num_degrees  \n",
              "162171  3cb36ae4-b26e-e82d-5ce2-b57b5ef5cb26           14  \n",
              "574161  4aafc4d0-36e5-459e-b7bf-9b2cd37da491           10  \n",
              "535553  d525521a-d119-412b-af0f-7f85d5bccf2a            9  \n",
              "577496  7723e506-8364-18ae-36f3-d915dab7ecb1            9  \n",
              "199529  621052e7-d596-42e5-4571-d393ec611d96            9  \n",
              "...                                      ...          ...  \n",
              "323608  720fa089-06fb-4b4e-bbc0-9691c987b9e0            1  \n",
              "323616  f8f20124-6841-4dce-878f-e177cc4106b0            1  \n",
              "323626  d381e251-cd12-433c-9e15-8e0e552d9347            1  \n",
              "323627  5ced44d9-bd2e-4fa7-8782-59f2e4493478            1  \n",
              "725484  2dfce712-19f8-4bde-9abb-8462486a0ec0            1  \n",
              "\n",
              "[72886 rows x 3 columns]"
            ],
            "text/html": [
              "\n",
              "  <div id=\"df-754a9acc-c4c0-403a-b909-37a850130e83\">\n",
              "    <div class=\"colab-df-container\">\n",
              "      <div>\n",
              "<style scoped>\n",
              "    .dataframe tbody tr th:only-of-type {\n",
              "        vertical-align: middle;\n",
              "    }\n",
              "\n",
              "    .dataframe tbody tr th {\n",
              "        vertical-align: top;\n",
              "    }\n",
              "\n",
              "    .dataframe thead th {\n",
              "        text-align: right;\n",
              "    }\n",
              "</style>\n",
              "<table border=\"1\" class=\"dataframe\">\n",
              "  <thead>\n",
              "    <tr style=\"text-align: right;\">\n",
              "      <th></th>\n",
              "      <th>degree_uuid</th>\n",
              "      <th>person_uuid</th>\n",
              "      <th>num_degrees</th>\n",
              "    </tr>\n",
              "  </thead>\n",
              "  <tbody>\n",
              "    <tr>\n",
              "      <th>162171</th>\n",
              "      <td>224ca2c7-1ebe-be44-f69c-ec41591a3f8a</td>\n",
              "      <td>3cb36ae4-b26e-e82d-5ce2-b57b5ef5cb26</td>\n",
              "      <td>14</td>\n",
              "    </tr>\n",
              "    <tr>\n",
              "      <th>574161</th>\n",
              "      <td>86b7a546-ddf7-48fc-8a5b-779e9593abaa</td>\n",
              "      <td>4aafc4d0-36e5-459e-b7bf-9b2cd37da491</td>\n",
              "      <td>10</td>\n",
              "    </tr>\n",
              "    <tr>\n",
              "      <th>535553</th>\n",
              "      <td>fd9bc495-566a-4b15-b4bc-31c33805ec8b</td>\n",
              "      <td>d525521a-d119-412b-af0f-7f85d5bccf2a</td>\n",
              "      <td>9</td>\n",
              "    </tr>\n",
              "    <tr>\n",
              "      <th>577496</th>\n",
              "      <td>9e51e729-f372-45e9-9f88-6df4ddd1046a</td>\n",
              "      <td>7723e506-8364-18ae-36f3-d915dab7ecb1</td>\n",
              "      <td>9</td>\n",
              "    </tr>\n",
              "    <tr>\n",
              "      <th>199529</th>\n",
              "      <td>7120c4e3-e4fe-b7b4-742c-ce2e742d9057</td>\n",
              "      <td>621052e7-d596-42e5-4571-d393ec611d96</td>\n",
              "      <td>9</td>\n",
              "    </tr>\n",
              "    <tr>\n",
              "      <th>...</th>\n",
              "      <td>...</td>\n",
              "      <td>...</td>\n",
              "      <td>...</td>\n",
              "    </tr>\n",
              "    <tr>\n",
              "      <th>323608</th>\n",
              "      <td>48a409b2-4b1d-4ff3-902e-951e68cd54ad</td>\n",
              "      <td>720fa089-06fb-4b4e-bbc0-9691c987b9e0</td>\n",
              "      <td>1</td>\n",
              "    </tr>\n",
              "    <tr>\n",
              "      <th>323616</th>\n",
              "      <td>57592c98-3848-4ab7-a677-5c596827dae7</td>\n",
              "      <td>f8f20124-6841-4dce-878f-e177cc4106b0</td>\n",
              "      <td>1</td>\n",
              "    </tr>\n",
              "    <tr>\n",
              "      <th>323626</th>\n",
              "      <td>e38075a0-d0ae-4c8a-acbf-8b7ffafe190b</td>\n",
              "      <td>d381e251-cd12-433c-9e15-8e0e552d9347</td>\n",
              "      <td>1</td>\n",
              "    </tr>\n",
              "    <tr>\n",
              "      <th>323627</th>\n",
              "      <td>0cac70db-b0f1-4361-bc65-75cfebe70c5f</td>\n",
              "      <td>5ced44d9-bd2e-4fa7-8782-59f2e4493478</td>\n",
              "      <td>1</td>\n",
              "    </tr>\n",
              "    <tr>\n",
              "      <th>725484</th>\n",
              "      <td>85421dcc-19e3-440d-8f2a-3a4a1300f803</td>\n",
              "      <td>2dfce712-19f8-4bde-9abb-8462486a0ec0</td>\n",
              "      <td>1</td>\n",
              "    </tr>\n",
              "  </tbody>\n",
              "</table>\n",
              "<p>72886 rows × 3 columns</p>\n",
              "</div>\n",
              "      <button class=\"colab-df-convert\" onclick=\"convertToInteractive('df-754a9acc-c4c0-403a-b909-37a850130e83')\"\n",
              "              title=\"Convert this dataframe to an interactive table.\"\n",
              "              style=\"display:none;\">\n",
              "        \n",
              "  <svg xmlns=\"http://www.w3.org/2000/svg\" height=\"24px\"viewBox=\"0 0 24 24\"\n",
              "       width=\"24px\">\n",
              "    <path d=\"M0 0h24v24H0V0z\" fill=\"none\"/>\n",
              "    <path d=\"M18.56 5.44l.94 2.06.94-2.06 2.06-.94-2.06-.94-.94-2.06-.94 2.06-2.06.94zm-11 1L8.5 8.5l.94-2.06 2.06-.94-2.06-.94L8.5 2.5l-.94 2.06-2.06.94zm10 10l.94 2.06.94-2.06 2.06-.94-2.06-.94-.94-2.06-.94 2.06-2.06.94z\"/><path d=\"M17.41 7.96l-1.37-1.37c-.4-.4-.92-.59-1.43-.59-.52 0-1.04.2-1.43.59L10.3 9.45l-7.72 7.72c-.78.78-.78 2.05 0 2.83L4 21.41c.39.39.9.59 1.41.59.51 0 1.02-.2 1.41-.59l7.78-7.78 2.81-2.81c.8-.78.8-2.07 0-2.86zM5.41 20L4 18.59l7.72-7.72 1.47 1.35L5.41 20z\"/>\n",
              "  </svg>\n",
              "      </button>\n",
              "      \n",
              "  <style>\n",
              "    .colab-df-container {\n",
              "      display:flex;\n",
              "      flex-wrap:wrap;\n",
              "      gap: 12px;\n",
              "    }\n",
              "\n",
              "    .colab-df-convert {\n",
              "      background-color: #E8F0FE;\n",
              "      border: none;\n",
              "      border-radius: 50%;\n",
              "      cursor: pointer;\n",
              "      display: none;\n",
              "      fill: #1967D2;\n",
              "      height: 32px;\n",
              "      padding: 0 0 0 0;\n",
              "      width: 32px;\n",
              "    }\n",
              "\n",
              "    .colab-df-convert:hover {\n",
              "      background-color: #E2EBFA;\n",
              "      box-shadow: 0px 1px 2px rgba(60, 64, 67, 0.3), 0px 1px 3px 1px rgba(60, 64, 67, 0.15);\n",
              "      fill: #174EA6;\n",
              "    }\n",
              "\n",
              "    [theme=dark] .colab-df-convert {\n",
              "      background-color: #3B4455;\n",
              "      fill: #D2E3FC;\n",
              "    }\n",
              "\n",
              "    [theme=dark] .colab-df-convert:hover {\n",
              "      background-color: #434B5C;\n",
              "      box-shadow: 0px 1px 3px 1px rgba(0, 0, 0, 0.15);\n",
              "      filter: drop-shadow(0px 1px 2px rgba(0, 0, 0, 0.3));\n",
              "      fill: #FFFFFF;\n",
              "    }\n",
              "  </style>\n",
              "\n",
              "      <script>\n",
              "        const buttonEl =\n",
              "          document.querySelector('#df-754a9acc-c4c0-403a-b909-37a850130e83 button.colab-df-convert');\n",
              "        buttonEl.style.display =\n",
              "          google.colab.kernel.accessAllowed ? 'block' : 'none';\n",
              "\n",
              "        async function convertToInteractive(key) {\n",
              "          const element = document.querySelector('#df-754a9acc-c4c0-403a-b909-37a850130e83');\n",
              "          const dataTable =\n",
              "            await google.colab.kernel.invokeFunction('convertToInteractive',\n",
              "                                                     [key], {});\n",
              "          if (!dataTable) return;\n",
              "\n",
              "          const docLinkHtml = 'Like what you see? Visit the ' +\n",
              "            '<a target=\"_blank\" href=https://colab.research.google.com/notebooks/data_table.ipynb>data table notebook</a>'\n",
              "            + ' to learn more about interactive tables.';\n",
              "          element.innerHTML = '';\n",
              "          dataTable['output_type'] = 'display_data';\n",
              "          await google.colab.output.renderOutput(dataTable, element);\n",
              "          const docLink = document.createElement('div');\n",
              "          docLink.innerHTML = docLinkHtml;\n",
              "          element.appendChild(docLink);\n",
              "        }\n",
              "      </script>\n",
              "    </div>\n",
              "  </div>\n",
              "  "
            ]
          },
          "metadata": {},
          "execution_count": 30
        }
      ],
      "source": [
        "degrees.sort_values('num_degrees', ascending=False)"
      ]
    },
    {
      "cell_type": "markdown",
      "metadata": {
        "id": "sCIZcP8ta_rm"
      },
      "source": [
        "There are still the people who have no degrees that we will account for later when merging"
      ]
    },
    {
      "cell_type": "code",
      "execution_count": null,
      "metadata": {
        "id": "sqUKKR4MOxoa"
      },
      "outputs": [],
      "source": [
        "cache_df = pd.merge(people, degrees, left_on='people_uuid', right_on='person_uuid', how = 'left' )"
      ]
    },
    {
      "cell_type": "code",
      "execution_count": null,
      "metadata": {
        "id": "FVHHAKAjns9A",
        "colab": {
          "base_uri": "https://localhost:8080/"
        },
        "outputId": "1814c930-030a-43bb-dafd-089f13f92b41"
      },
      "outputs": [
        {
          "output_type": "stream",
          "name": "stdout",
          "text": [
            "<class 'pandas.core.frame.DataFrame'>\n",
            "Int64Index: 155633 entries, 0 to 155632\n",
            "Data columns (total 10 columns):\n",
            " #   Column                          Non-Null Count   Dtype  \n",
            "---  ------                          --------------   -----  \n",
            " 0   featured_job_organization_uuid  155633 non-null  object \n",
            " 1   people_uuid                     155633 non-null  object \n",
            " 2   gender                          153535 non-null  object \n",
            " 3   featured_job_title              155633 non-null  object \n",
            " 4   num_seniors                     155633 non-null  int64  \n",
            " 5   male_senior_ratio               155633 non-null  float64\n",
            " 6   is_lead                         155633 non-null  bool   \n",
            " 7   degree_uuid                     72886 non-null   object \n",
            " 8   person_uuid                     72886 non-null   object \n",
            " 9   num_degrees                     72886 non-null   float64\n",
            "dtypes: bool(1), float64(2), int64(1), object(6)\n",
            "memory usage: 12.0+ MB\n"
          ]
        }
      ],
      "source": [
        "cache_df.info()"
      ]
    },
    {
      "cell_type": "code",
      "execution_count": null,
      "metadata": {
        "id": "ktCeOthwuPB3"
      },
      "outputs": [],
      "source": [
        "cache_df = cache_df.drop(['degree_uuid', 'person_uuid'], axis=1)\n",
        "\n",
        "#Fill na with 0 because these people have not completed any degree\n",
        "cache_df['num_degrees'] = cache_df['num_degrees'].fillna(0)"
      ]
    },
    {
      "cell_type": "code",
      "execution_count": null,
      "metadata": {
        "id": "LOvxzFJnQD2c"
      },
      "outputs": [],
      "source": [
        "cache_df = pd.merge(df, cache_df, left_on='uuid', right_on='featured_job_organization_uuid', how = 'inner' )"
      ]
    },
    {
      "cell_type": "code",
      "execution_count": null,
      "metadata": {
        "id": "lnkn5sW-C5MI"
      },
      "outputs": [],
      "source": [
        "# group the funding_rounds dataframe by org_uuid and apply aggregation functions\n",
        "grouped = funding_rounds.groupby('org_uuid').agg(\n",
        "    seed=('investment_type', lambda x: int('seed' in x.values)),\n",
        "    early_investment=('investment_type', lambda x: int(any([val in ['pre_seed', 'grant', 'angel'] for val in x]))),\n",
        "    any_investment_funding =('investment_type', lambda x: int(any([val in ['series_a', 'series_b', 'series_c', 'series_d',\n",
        "                                                                'series_e', 'series_f','series_h', 'series_i', 'series_j',\n",
        "                                                                'series_unknown'] for val in x]))),\n",
        "    debt_or_other=('investment_type', lambda x: int(any([val in ['debt_financing', 'convertible_note', 'post_ipo_debt', 'private_equity', 'non_equity_assistance', 'undisclosed'] for val in x]))),\n",
        "    investor_count=('investor_count', 'sum'),\n",
        "    total_raised=('raised_amount_usd', 'sum')\n",
        ")\n",
        "\n",
        "# reset the index to make org_uuid a column\n",
        "new_df = grouped.reset_index()\n"
      ]
    },
    {
      "cell_type": "code",
      "execution_count": null,
      "metadata": {
        "id": "sgb1nbOYvh5v"
      },
      "outputs": [],
      "source": [
        "funding_rounds = new_df"
      ]
    },
    {
      "cell_type": "code",
      "execution_count": null,
      "metadata": {
        "id": "7Ixn1UgoDDfA"
      },
      "outputs": [],
      "source": [
        "# funding_rounds = new_df.loc[new_df.total_raised != 0]"
      ]
    },
    {
      "cell_type": "code",
      "execution_count": null,
      "metadata": {
        "id": "ire0QBVXxwRM"
      },
      "outputs": [],
      "source": [
        "cache_df = pd.merge(cache_df, funding_rounds, left_on='uuid', right_on='org_uuid', how = 'inner' )"
      ]
    },
    {
      "cell_type": "code",
      "execution_count": null,
      "metadata": {
        "id": "YtUx4C5-gq1P",
        "colab": {
          "base_uri": "https://localhost:8080/",
          "height": 551
        },
        "outputId": "66cc8898-9444-484d-cb4e-dec16785118f"
      },
      "outputs": [
        {
          "output_type": "execute_result",
          "data": {
            "text/plain": [
              "                                Unique  Missing values in %   DType\n",
              "uuid                             78096             0.000000  object\n",
              "primary_role                         3             0.000000  object\n",
              "country_code                       158             0.741395  object\n",
              "region                            1112             0.741395  object\n",
              "status                               4             0.000000  object\n",
              "category_list                    51516             2.201137  object\n",
              "category_groups_list             17417             2.201137  object\n",
              "linkedin_url                     64018            17.998361  object\n",
              "facebook_url                     48816            37.466708  object\n",
              "twitter_url                      50010            35.941662  object\n",
              "employee_count                      10             0.000000  object\n",
              "featured_job_organization_uuid   78096             0.000000  object\n",
              "people_uuid                      78096             0.000000  object\n",
              "gender                              10             1.535290  object\n",
              "featured_job_title                8107             0.000000  object\n",
              "org_uuid                         78096             0.000000  object"
            ],
            "text/html": [
              "\n",
              "  <div id=\"df-40322033-2023-4a8e-8c3f-d19823047640\">\n",
              "    <div class=\"colab-df-container\">\n",
              "      <div>\n",
              "<style scoped>\n",
              "    .dataframe tbody tr th:only-of-type {\n",
              "        vertical-align: middle;\n",
              "    }\n",
              "\n",
              "    .dataframe tbody tr th {\n",
              "        vertical-align: top;\n",
              "    }\n",
              "\n",
              "    .dataframe thead th {\n",
              "        text-align: right;\n",
              "    }\n",
              "</style>\n",
              "<table border=\"1\" class=\"dataframe\">\n",
              "  <thead>\n",
              "    <tr style=\"text-align: right;\">\n",
              "      <th></th>\n",
              "      <th>Unique</th>\n",
              "      <th>Missing values in %</th>\n",
              "      <th>DType</th>\n",
              "    </tr>\n",
              "  </thead>\n",
              "  <tbody>\n",
              "    <tr>\n",
              "      <th>uuid</th>\n",
              "      <td>78096</td>\n",
              "      <td>0.000000</td>\n",
              "      <td>object</td>\n",
              "    </tr>\n",
              "    <tr>\n",
              "      <th>primary_role</th>\n",
              "      <td>3</td>\n",
              "      <td>0.000000</td>\n",
              "      <td>object</td>\n",
              "    </tr>\n",
              "    <tr>\n",
              "      <th>country_code</th>\n",
              "      <td>158</td>\n",
              "      <td>0.741395</td>\n",
              "      <td>object</td>\n",
              "    </tr>\n",
              "    <tr>\n",
              "      <th>region</th>\n",
              "      <td>1112</td>\n",
              "      <td>0.741395</td>\n",
              "      <td>object</td>\n",
              "    </tr>\n",
              "    <tr>\n",
              "      <th>status</th>\n",
              "      <td>4</td>\n",
              "      <td>0.000000</td>\n",
              "      <td>object</td>\n",
              "    </tr>\n",
              "    <tr>\n",
              "      <th>category_list</th>\n",
              "      <td>51516</td>\n",
              "      <td>2.201137</td>\n",
              "      <td>object</td>\n",
              "    </tr>\n",
              "    <tr>\n",
              "      <th>category_groups_list</th>\n",
              "      <td>17417</td>\n",
              "      <td>2.201137</td>\n",
              "      <td>object</td>\n",
              "    </tr>\n",
              "    <tr>\n",
              "      <th>linkedin_url</th>\n",
              "      <td>64018</td>\n",
              "      <td>17.998361</td>\n",
              "      <td>object</td>\n",
              "    </tr>\n",
              "    <tr>\n",
              "      <th>facebook_url</th>\n",
              "      <td>48816</td>\n",
              "      <td>37.466708</td>\n",
              "      <td>object</td>\n",
              "    </tr>\n",
              "    <tr>\n",
              "      <th>twitter_url</th>\n",
              "      <td>50010</td>\n",
              "      <td>35.941662</td>\n",
              "      <td>object</td>\n",
              "    </tr>\n",
              "    <tr>\n",
              "      <th>employee_count</th>\n",
              "      <td>10</td>\n",
              "      <td>0.000000</td>\n",
              "      <td>object</td>\n",
              "    </tr>\n",
              "    <tr>\n",
              "      <th>featured_job_organization_uuid</th>\n",
              "      <td>78096</td>\n",
              "      <td>0.000000</td>\n",
              "      <td>object</td>\n",
              "    </tr>\n",
              "    <tr>\n",
              "      <th>people_uuid</th>\n",
              "      <td>78096</td>\n",
              "      <td>0.000000</td>\n",
              "      <td>object</td>\n",
              "    </tr>\n",
              "    <tr>\n",
              "      <th>gender</th>\n",
              "      <td>10</td>\n",
              "      <td>1.535290</td>\n",
              "      <td>object</td>\n",
              "    </tr>\n",
              "    <tr>\n",
              "      <th>featured_job_title</th>\n",
              "      <td>8107</td>\n",
              "      <td>0.000000</td>\n",
              "      <td>object</td>\n",
              "    </tr>\n",
              "    <tr>\n",
              "      <th>org_uuid</th>\n",
              "      <td>78096</td>\n",
              "      <td>0.000000</td>\n",
              "      <td>object</td>\n",
              "    </tr>\n",
              "  </tbody>\n",
              "</table>\n",
              "</div>\n",
              "      <button class=\"colab-df-convert\" onclick=\"convertToInteractive('df-40322033-2023-4a8e-8c3f-d19823047640')\"\n",
              "              title=\"Convert this dataframe to an interactive table.\"\n",
              "              style=\"display:none;\">\n",
              "        \n",
              "  <svg xmlns=\"http://www.w3.org/2000/svg\" height=\"24px\"viewBox=\"0 0 24 24\"\n",
              "       width=\"24px\">\n",
              "    <path d=\"M0 0h24v24H0V0z\" fill=\"none\"/>\n",
              "    <path d=\"M18.56 5.44l.94 2.06.94-2.06 2.06-.94-2.06-.94-.94-2.06-.94 2.06-2.06.94zm-11 1L8.5 8.5l.94-2.06 2.06-.94-2.06-.94L8.5 2.5l-.94 2.06-2.06.94zm10 10l.94 2.06.94-2.06 2.06-.94-2.06-.94-.94-2.06-.94 2.06-2.06.94z\"/><path d=\"M17.41 7.96l-1.37-1.37c-.4-.4-.92-.59-1.43-.59-.52 0-1.04.2-1.43.59L10.3 9.45l-7.72 7.72c-.78.78-.78 2.05 0 2.83L4 21.41c.39.39.9.59 1.41.59.51 0 1.02-.2 1.41-.59l7.78-7.78 2.81-2.81c.8-.78.8-2.07 0-2.86zM5.41 20L4 18.59l7.72-7.72 1.47 1.35L5.41 20z\"/>\n",
              "  </svg>\n",
              "      </button>\n",
              "      \n",
              "  <style>\n",
              "    .colab-df-container {\n",
              "      display:flex;\n",
              "      flex-wrap:wrap;\n",
              "      gap: 12px;\n",
              "    }\n",
              "\n",
              "    .colab-df-convert {\n",
              "      background-color: #E8F0FE;\n",
              "      border: none;\n",
              "      border-radius: 50%;\n",
              "      cursor: pointer;\n",
              "      display: none;\n",
              "      fill: #1967D2;\n",
              "      height: 32px;\n",
              "      padding: 0 0 0 0;\n",
              "      width: 32px;\n",
              "    }\n",
              "\n",
              "    .colab-df-convert:hover {\n",
              "      background-color: #E2EBFA;\n",
              "      box-shadow: 0px 1px 2px rgba(60, 64, 67, 0.3), 0px 1px 3px 1px rgba(60, 64, 67, 0.15);\n",
              "      fill: #174EA6;\n",
              "    }\n",
              "\n",
              "    [theme=dark] .colab-df-convert {\n",
              "      background-color: #3B4455;\n",
              "      fill: #D2E3FC;\n",
              "    }\n",
              "\n",
              "    [theme=dark] .colab-df-convert:hover {\n",
              "      background-color: #434B5C;\n",
              "      box-shadow: 0px 1px 3px 1px rgba(0, 0, 0, 0.15);\n",
              "      filter: drop-shadow(0px 1px 2px rgba(0, 0, 0, 0.3));\n",
              "      fill: #FFFFFF;\n",
              "    }\n",
              "  </style>\n",
              "\n",
              "      <script>\n",
              "        const buttonEl =\n",
              "          document.querySelector('#df-40322033-2023-4a8e-8c3f-d19823047640 button.colab-df-convert');\n",
              "        buttonEl.style.display =\n",
              "          google.colab.kernel.accessAllowed ? 'block' : 'none';\n",
              "\n",
              "        async function convertToInteractive(key) {\n",
              "          const element = document.querySelector('#df-40322033-2023-4a8e-8c3f-d19823047640');\n",
              "          const dataTable =\n",
              "            await google.colab.kernel.invokeFunction('convertToInteractive',\n",
              "                                                     [key], {});\n",
              "          if (!dataTable) return;\n",
              "\n",
              "          const docLinkHtml = 'Like what you see? Visit the ' +\n",
              "            '<a target=\"_blank\" href=https://colab.research.google.com/notebooks/data_table.ipynb>data table notebook</a>'\n",
              "            + ' to learn more about interactive tables.';\n",
              "          element.innerHTML = '';\n",
              "          dataTable['output_type'] = 'display_data';\n",
              "          await google.colab.output.renderOutput(dataTable, element);\n",
              "          const docLink = document.createElement('div');\n",
              "          docLink.innerHTML = docLinkHtml;\n",
              "          element.appendChild(docLink);\n",
              "        }\n",
              "      </script>\n",
              "    </div>\n",
              "  </div>\n",
              "  "
            ]
          },
          "metadata": {},
          "execution_count": 42
        }
      ],
      "source": [
        "categorical_cache_df = list(filter(lambda x: cache_df[x].dtype=='object',cache_df.columns))\n",
        "show_stats(cache_df, categorical_cache_df)"
      ]
    },
    {
      "cell_type": "code",
      "execution_count": null,
      "metadata": {
        "id": "2ssFyWjDDFE8",
        "colab": {
          "base_uri": "https://localhost:8080/",
          "height": 394
        },
        "outputId": "b8a0e040-c4fb-4703-e7e9-93f743b46f94"
      },
      "outputs": [
        {
          "output_type": "execute_result",
          "data": {
            "text/plain": [
              "                      Unique  Missing values in %   DType\n",
              "uuid                  657005             0.000000  object\n",
              "primary_role               3             0.000000  object\n",
              "country_code             210            11.629287  object\n",
              "region                  1916            11.629287  object\n",
              "status                     4             0.000000  object\n",
              "category_list         257951             6.736022  object\n",
              "category_groups_list   51055             6.736022  object\n",
              "linkedin_url          458370            29.984703  object\n",
              "facebook_url          393307            39.911568  object\n",
              "twitter_url           325786            50.195661  object\n",
              "employee_count            10             0.000000  object"
            ],
            "text/html": [
              "\n",
              "  <div id=\"df-00372ce4-50ed-4316-ab37-6f0e772b8c7c\">\n",
              "    <div class=\"colab-df-container\">\n",
              "      <div>\n",
              "<style scoped>\n",
              "    .dataframe tbody tr th:only-of-type {\n",
              "        vertical-align: middle;\n",
              "    }\n",
              "\n",
              "    .dataframe tbody tr th {\n",
              "        vertical-align: top;\n",
              "    }\n",
              "\n",
              "    .dataframe thead th {\n",
              "        text-align: right;\n",
              "    }\n",
              "</style>\n",
              "<table border=\"1\" class=\"dataframe\">\n",
              "  <thead>\n",
              "    <tr style=\"text-align: right;\">\n",
              "      <th></th>\n",
              "      <th>Unique</th>\n",
              "      <th>Missing values in %</th>\n",
              "      <th>DType</th>\n",
              "    </tr>\n",
              "  </thead>\n",
              "  <tbody>\n",
              "    <tr>\n",
              "      <th>uuid</th>\n",
              "      <td>657005</td>\n",
              "      <td>0.000000</td>\n",
              "      <td>object</td>\n",
              "    </tr>\n",
              "    <tr>\n",
              "      <th>primary_role</th>\n",
              "      <td>3</td>\n",
              "      <td>0.000000</td>\n",
              "      <td>object</td>\n",
              "    </tr>\n",
              "    <tr>\n",
              "      <th>country_code</th>\n",
              "      <td>210</td>\n",
              "      <td>11.629287</td>\n",
              "      <td>object</td>\n",
              "    </tr>\n",
              "    <tr>\n",
              "      <th>region</th>\n",
              "      <td>1916</td>\n",
              "      <td>11.629287</td>\n",
              "      <td>object</td>\n",
              "    </tr>\n",
              "    <tr>\n",
              "      <th>status</th>\n",
              "      <td>4</td>\n",
              "      <td>0.000000</td>\n",
              "      <td>object</td>\n",
              "    </tr>\n",
              "    <tr>\n",
              "      <th>category_list</th>\n",
              "      <td>257951</td>\n",
              "      <td>6.736022</td>\n",
              "      <td>object</td>\n",
              "    </tr>\n",
              "    <tr>\n",
              "      <th>category_groups_list</th>\n",
              "      <td>51055</td>\n",
              "      <td>6.736022</td>\n",
              "      <td>object</td>\n",
              "    </tr>\n",
              "    <tr>\n",
              "      <th>linkedin_url</th>\n",
              "      <td>458370</td>\n",
              "      <td>29.984703</td>\n",
              "      <td>object</td>\n",
              "    </tr>\n",
              "    <tr>\n",
              "      <th>facebook_url</th>\n",
              "      <td>393307</td>\n",
              "      <td>39.911568</td>\n",
              "      <td>object</td>\n",
              "    </tr>\n",
              "    <tr>\n",
              "      <th>twitter_url</th>\n",
              "      <td>325786</td>\n",
              "      <td>50.195661</td>\n",
              "      <td>object</td>\n",
              "    </tr>\n",
              "    <tr>\n",
              "      <th>employee_count</th>\n",
              "      <td>10</td>\n",
              "      <td>0.000000</td>\n",
              "      <td>object</td>\n",
              "    </tr>\n",
              "  </tbody>\n",
              "</table>\n",
              "</div>\n",
              "      <button class=\"colab-df-convert\" onclick=\"convertToInteractive('df-00372ce4-50ed-4316-ab37-6f0e772b8c7c')\"\n",
              "              title=\"Convert this dataframe to an interactive table.\"\n",
              "              style=\"display:none;\">\n",
              "        \n",
              "  <svg xmlns=\"http://www.w3.org/2000/svg\" height=\"24px\"viewBox=\"0 0 24 24\"\n",
              "       width=\"24px\">\n",
              "    <path d=\"M0 0h24v24H0V0z\" fill=\"none\"/>\n",
              "    <path d=\"M18.56 5.44l.94 2.06.94-2.06 2.06-.94-2.06-.94-.94-2.06-.94 2.06-2.06.94zm-11 1L8.5 8.5l.94-2.06 2.06-.94-2.06-.94L8.5 2.5l-.94 2.06-2.06.94zm10 10l.94 2.06.94-2.06 2.06-.94-2.06-.94-.94-2.06-.94 2.06-2.06.94z\"/><path d=\"M17.41 7.96l-1.37-1.37c-.4-.4-.92-.59-1.43-.59-.52 0-1.04.2-1.43.59L10.3 9.45l-7.72 7.72c-.78.78-.78 2.05 0 2.83L4 21.41c.39.39.9.59 1.41.59.51 0 1.02-.2 1.41-.59l7.78-7.78 2.81-2.81c.8-.78.8-2.07 0-2.86zM5.41 20L4 18.59l7.72-7.72 1.47 1.35L5.41 20z\"/>\n",
              "  </svg>\n",
              "      </button>\n",
              "      \n",
              "  <style>\n",
              "    .colab-df-container {\n",
              "      display:flex;\n",
              "      flex-wrap:wrap;\n",
              "      gap: 12px;\n",
              "    }\n",
              "\n",
              "    .colab-df-convert {\n",
              "      background-color: #E8F0FE;\n",
              "      border: none;\n",
              "      border-radius: 50%;\n",
              "      cursor: pointer;\n",
              "      display: none;\n",
              "      fill: #1967D2;\n",
              "      height: 32px;\n",
              "      padding: 0 0 0 0;\n",
              "      width: 32px;\n",
              "    }\n",
              "\n",
              "    .colab-df-convert:hover {\n",
              "      background-color: #E2EBFA;\n",
              "      box-shadow: 0px 1px 2px rgba(60, 64, 67, 0.3), 0px 1px 3px 1px rgba(60, 64, 67, 0.15);\n",
              "      fill: #174EA6;\n",
              "    }\n",
              "\n",
              "    [theme=dark] .colab-df-convert {\n",
              "      background-color: #3B4455;\n",
              "      fill: #D2E3FC;\n",
              "    }\n",
              "\n",
              "    [theme=dark] .colab-df-convert:hover {\n",
              "      background-color: #434B5C;\n",
              "      box-shadow: 0px 1px 3px 1px rgba(0, 0, 0, 0.15);\n",
              "      filter: drop-shadow(0px 1px 2px rgba(0, 0, 0, 0.3));\n",
              "      fill: #FFFFFF;\n",
              "    }\n",
              "  </style>\n",
              "\n",
              "      <script>\n",
              "        const buttonEl =\n",
              "          document.querySelector('#df-00372ce4-50ed-4316-ab37-6f0e772b8c7c button.colab-df-convert');\n",
              "        buttonEl.style.display =\n",
              "          google.colab.kernel.accessAllowed ? 'block' : 'none';\n",
              "\n",
              "        async function convertToInteractive(key) {\n",
              "          const element = document.querySelector('#df-00372ce4-50ed-4316-ab37-6f0e772b8c7c');\n",
              "          const dataTable =\n",
              "            await google.colab.kernel.invokeFunction('convertToInteractive',\n",
              "                                                     [key], {});\n",
              "          if (!dataTable) return;\n",
              "\n",
              "          const docLinkHtml = 'Like what you see? Visit the ' +\n",
              "            '<a target=\"_blank\" href=https://colab.research.google.com/notebooks/data_table.ipynb>data table notebook</a>'\n",
              "            + ' to learn more about interactive tables.';\n",
              "          element.innerHTML = '';\n",
              "          dataTable['output_type'] = 'display_data';\n",
              "          await google.colab.output.renderOutput(dataTable, element);\n",
              "          const docLink = document.createElement('div');\n",
              "          docLink.innerHTML = docLinkHtml;\n",
              "          element.appendChild(docLink);\n",
              "        }\n",
              "      </script>\n",
              "    </div>\n",
              "  </div>\n",
              "  "
            ]
          },
          "metadata": {},
          "execution_count": 43
        }
      ],
      "source": [
        "df_cols_cat = list(filter(lambda x: df[x].dtype=='object', df.columns))\n",
        "show_stats(df, df_cols_cat)"
      ]
    },
    {
      "cell_type": "code",
      "execution_count": null,
      "metadata": {
        "id": "OdfePEbWi33_",
        "colab": {
          "base_uri": "https://localhost:8080/"
        },
        "outputId": "0d9d6492-a97f-460c-f51f-ed2c683d0dd0"
      },
      "outputs": [
        {
          "output_type": "execute_result",
          "data": {
            "text/plain": [
              "employee_count\n",
              "1-10          35273\n",
              "10000+           57\n",
              "1001-5000       391\n",
              "101-250        4214\n",
              "11-50         29372\n",
              "251-500        1361\n",
              "5001-10000       54\n",
              "501-1000        624\n",
              "51-100         5218\n",
              "unknown        1532\n",
              "Name: uuid, dtype: int64"
            ]
          },
          "metadata": {},
          "execution_count": 44
        }
      ],
      "source": [
        "cache_df.groupby('employee_count')['uuid'].count()"
      ]
    },
    {
      "cell_type": "code",
      "execution_count": null,
      "metadata": {
        "id": "IG13OitU0bvH"
      },
      "outputs": [],
      "source": [
        "# Define a dictionary that maps each label to a numerical value\n",
        "label_dict = {'10000+': 9, '5001-10000': 8, '1001-5000': 7, '501-1000': 6, '251-500': 5, '101-250': 4, '51-100': 3, '11-50': 2, '1-10': 1, 'unknown': 0}\n",
        "\n",
        "# Use the replace() method to assign numerical values to the labels\n",
        "cache_df['employee_count_cat'] = cache_df['employee_count'].replace(label_dict)"
      ]
    },
    {
      "cell_type": "code",
      "execution_count": null,
      "metadata": {
        "id": "NdjWJmSP0eB9"
      },
      "outputs": [],
      "source": [
        "cache_df = cache_df.loc[cache_df.primary_role == 'company']"
      ]
    },
    {
      "cell_type": "code",
      "execution_count": null,
      "metadata": {
        "id": "HI8ec6-K1bZf",
        "colab": {
          "base_uri": "https://localhost:8080/"
        },
        "outputId": "aafbbeed-6360-4acf-d0f0-20af2bdbf626"
      },
      "outputs": [
        {
          "output_type": "execute_result",
          "data": {
            "text/plain": [
              "75289"
            ]
          },
          "metadata": {},
          "execution_count": 47
        }
      ],
      "source": [
        "cache_df.groupby('category_groups_list')['uuid'].nunique().sum()"
      ]
    },
    {
      "cell_type": "markdown",
      "metadata": {
        "id": "Qe20K0p44PJO"
      },
      "source": [
        "We notice that some companies belong to many category groups, let's keep only the main one."
      ]
    },
    {
      "cell_type": "code",
      "execution_count": null,
      "metadata": {
        "id": "Q-0I8hpj1SHb"
      },
      "outputs": [],
      "source": [
        "cache_df['category_groups_list'] = cache_df['category_groups_list'].str.split(',', expand=True)[0]"
      ]
    },
    {
      "cell_type": "code",
      "execution_count": null,
      "metadata": {
        "id": "lfJYAti01PyA"
      },
      "outputs": [],
      "source": [
        "cache_df = cache_df.drop(['primary_role', 'category_list', 'num_exits', 'featured_job_organization_uuid', 'people_uuid', 'org_uuid', 'total_raised', 'is_lead'], axis=1)"
      ]
    },
    {
      "cell_type": "code",
      "execution_count": null,
      "metadata": {
        "id": "ebuVzIXpoIM2"
      },
      "outputs": [],
      "source": [
        "cache_df = cache_df.drop('gender', axis=1)"
      ]
    },
    {
      "cell_type": "code",
      "execution_count": null,
      "metadata": {
        "id": "ouJ4LKw9pH6i"
      },
      "outputs": [],
      "source": [
        "cache_df['social_media_presence'] = ((cache_df['linkedin_url'].notnull()) &\n",
        "                                     (cache_df['twitter_url'].notnull()) &\n",
        "                                     (cache_df['facebook_url'].notnull())).astype(int)"
      ]
    },
    {
      "cell_type": "code",
      "execution_count": null,
      "metadata": {
        "id": "6B1DptQMpJJy"
      },
      "outputs": [],
      "source": [
        "cache_df = cache_df.drop(['twitter_url', 'facebook_url', 'linkedin_url', 'employee_count'], axis=1)"
      ]
    },
    {
      "cell_type": "code",
      "execution_count": null,
      "metadata": {
        "id": "UR7N8UIjx_tf"
      },
      "outputs": [],
      "source": [
        "cache_df = cache_df.loc[cache_df['status'] != 'ipo']"
      ]
    },
    {
      "cell_type": "code",
      "execution_count": null,
      "metadata": {
        "id": "ujQDcgPQyX5T",
        "colab": {
          "base_uri": "https://localhost:8080/"
        },
        "outputId": "a2fa4b9f-f4fd-43d5-f5e6-3e3d369308dd"
      },
      "outputs": [
        {
          "output_type": "execute_result",
          "data": {
            "text/plain": [
              "operating    66693\n",
              "closed        5485\n",
              "acquired      3959\n",
              "Name: status, dtype: int64"
            ]
          },
          "metadata": {},
          "execution_count": 54
        }
      ],
      "source": [
        "cache_df['status'].value_counts()"
      ]
    },
    {
      "cell_type": "code",
      "execution_count": null,
      "metadata": {
        "id": "_1gst9lXzb9b"
      },
      "outputs": [],
      "source": [
        "cache_df.loc[cache_df['status'].isin(['closed', 'acquired']), 'status'] = 'exited'"
      ]
    },
    {
      "cell_type": "code",
      "execution_count": null,
      "metadata": {
        "id": "oBEgMsMB0BcV",
        "colab": {
          "base_uri": "https://localhost:8080/"
        },
        "outputId": "6ecbcf8a-9bd9-4f3f-ed69-7683b498e13f"
      },
      "outputs": [
        {
          "output_type": "execute_result",
          "data": {
            "text/plain": [
              "operating    66693\n",
              "exited        9444\n",
              "Name: status, dtype: int64"
            ]
          },
          "metadata": {},
          "execution_count": 56
        }
      ],
      "source": [
        "cache_df['status'].value_counts()"
      ]
    },
    {
      "cell_type": "code",
      "execution_count": null,
      "metadata": {
        "id": "kr95yxSV16ju"
      },
      "outputs": [],
      "source": [
        "df = cache_df.copy()"
      ]
    },
    {
      "cell_type": "code",
      "execution_count": null,
      "metadata": {
        "id": "gmMTlwtXV4h-",
        "colab": {
          "base_uri": "https://localhost:8080/"
        },
        "outputId": "f30919a7-f7c5-4713-ffa8-e3006a30f729"
      },
      "outputs": [
        {
          "output_type": "execute_result",
          "data": {
            "text/plain": [
              "uuid                       0.000000\n",
              "country_code               0.000000\n",
              "region                     0.000000\n",
              "status                     0.000000\n",
              "category_groups_list       0.000000\n",
              "num_funding_rounds         0.000000\n",
              "total_funding_usd         18.429936\n",
              "founded_on                 0.000000\n",
              "last_funding_on            0.000000\n",
              "featured_job_title         0.000000\n",
              "num_seniors                0.000000\n",
              "male_senior_ratio          9.343683\n",
              "num_degrees               55.434283\n",
              "seed                      39.920144\n",
              "early_investment          62.530701\n",
              "any_investment_funding    64.490327\n",
              "debt_or_other             80.923861\n",
              "investor_count            18.934290\n",
              "employee_count_cat         1.945178\n",
              "social_media_presence     54.039429\n",
              "dtype: float64"
            ]
          },
          "metadata": {},
          "execution_count": 58
        }
      ],
      "source": [
        "(df.isin([0]).sum()/df.count()) *100 # some of the columns have a lot of zeros. Calculating zeros as apercentage of the total rows for each column"
      ]
    },
    {
      "cell_type": "code",
      "execution_count": null,
      "metadata": {
        "id": "8ECBl6S3aC32",
        "colab": {
          "base_uri": "https://localhost:8080/"
        },
        "outputId": "be5e2638-0193-43ea-dcd6-9e4181f626e0"
      },
      "outputs": [
        {
          "output_type": "execute_result",
          "data": {
            "text/plain": [
              "array(['operating', 'exited'], dtype=object)"
            ]
          },
          "metadata": {},
          "execution_count": 59
        }
      ],
      "source": [
        "#Let's explore the target variable\n",
        "df['status'].unique() #unique values in status column\n",
        "#status column have three different values, this is what we are going to use to predict against"
      ]
    },
    {
      "cell_type": "code",
      "execution_count": null,
      "metadata": {
        "id": "XIFcPqo8rMbz",
        "colab": {
          "base_uri": "https://localhost:8080/"
        },
        "outputId": "a40fbda6-1807-4d6c-8a68-838d67ea2759"
      },
      "outputs": [
        {
          "output_type": "execute_result",
          "data": {
            "text/plain": [
              "status\n",
              "exited        9444\n",
              "operating    66693\n",
              "Name: uuid, dtype: int64"
            ]
          },
          "metadata": {},
          "execution_count": 60
        }
      ],
      "source": [
        "df.groupby(\"status\")[\"uuid\"].nunique()"
      ]
    },
    {
      "cell_type": "code",
      "execution_count": null,
      "metadata": {
        "id": "7_ieahmVrhd6",
        "colab": {
          "base_uri": "https://localhost:8080/"
        },
        "outputId": "f851dced-4b84-4f76-c6b9-a635ff25cd3a"
      },
      "outputs": [
        {
          "output_type": "execute_result",
          "data": {
            "text/plain": [
              "array(['SWE', 'USA', 'GBR', 'IND', 'ARG', 'SGP', 'VNM', 'AUS', 'ARE',\n",
              "       'BGR', 'FRA', 'CAN', 'IDN', 'DEU', 'NLD', 'BEL', 'PAK', 'JPN',\n",
              "       'ISR', 'BRA', 'ITA', 'CHE', 'CHL', 'HKG', 'GRC', 'CZE', 'COL',\n",
              "       'AUT', 'ESP', 'LUX', nan, 'POL', 'HRV', 'IRL', 'DNK', 'FIN', 'MEX',\n",
              "       'HUN', 'TUR', 'RUS', 'NOR', 'LTU', 'KEN', 'JOR', 'KOR', 'UKR',\n",
              "       'PHL', 'CHN', 'EGY', 'ISL', 'GHA', 'UGA', 'ZMB', 'ZAF', 'SRB',\n",
              "       'THA', 'VEN', 'EST', 'MAC', 'ROM', 'MLT', 'PRT', 'BGD', 'PAN',\n",
              "       'SVK', 'LVA', 'RWA', 'BMU', 'MKD', 'NGA', 'NZL', 'MAR', 'PER',\n",
              "       'MYS', 'CIV', 'TWN', 'SVN', 'PSE', 'GTM', 'TUN', 'CMR', 'SAU',\n",
              "       'BIH', 'PRI', 'ALB', 'JAM', 'CRI', 'TAN', 'NIC', 'MDA', 'CYP',\n",
              "       'QAT', 'LBN', 'IMN', 'MMR', 'CYM', 'SYC', 'TTO', 'KWT', 'AZE',\n",
              "       'ARM', 'GEO', 'PRY', 'BRB', 'NPL', 'ECU', 'ZWE', 'BLZ', 'BWA',\n",
              "       'MDG', 'IRN', 'DOM', 'COD', 'SEN', 'BLR', 'AGO', 'URY', 'JEY',\n",
              "       'KAZ', 'BHR', 'MUS', 'KHM', 'GIB', 'MLI', 'MWI', 'LIE', 'LKA',\n",
              "       'SLV', 'ETH', 'MOZ', 'IRQ', 'REU', 'BOL', 'TGO', 'BAH', 'KNA',\n",
              "       'HND', 'GUY', 'AIA', 'OMN', 'IOT', 'MNG', 'HTI', 'DMA', 'ASM',\n",
              "       'BEN', 'LBR', 'MNP', 'DZA', 'GMB', 'LBY', 'SLE', 'TJK', 'SMR',\n",
              "       'LSO', 'BRN', 'UZB', 'GAB', 'NAM'], dtype=object)"
            ]
          },
          "metadata": {},
          "execution_count": 61
        }
      ],
      "source": [
        "df['country_code'].unique() # no. of unique country code\n",
        "#115 country code unique"
      ]
    },
    {
      "cell_type": "code",
      "execution_count": null,
      "metadata": {
        "id": "Q_mD5khS01vJ",
        "colab": {
          "base_uri": "https://localhost:8080/"
        },
        "outputId": "3415f945-2f48-4eec-8515-84dde8d59b27"
      },
      "outputs": [
        {
          "output_type": "execute_result",
          "data": {
            "text/plain": [
              "uuid                         0\n",
              "country_code               569\n",
              "region                     569\n",
              "status                       0\n",
              "category_groups_list      1643\n",
              "num_funding_rounds           0\n",
              "total_funding_usd            0\n",
              "founded_on                   0\n",
              "last_funding_on              0\n",
              "featured_job_title           0\n",
              "num_seniors                  0\n",
              "male_senior_ratio            0\n",
              "num_degrees                  0\n",
              "seed                         0\n",
              "early_investment             0\n",
              "any_investment_funding       0\n",
              "debt_or_other                0\n",
              "investor_count               0\n",
              "employee_count_cat           0\n",
              "social_media_presence        0\n",
              "dtype: int64"
            ]
          },
          "metadata": {},
          "execution_count": 63
        }
      ],
      "source": [
        "df.isnull().sum() #sum of null values in each column\n",
        "# dataset also has some null values. Some of the columns have a lot of null values eg. state code and founded years"
      ]
    },
    {
      "cell_type": "markdown",
      "metadata": {
        "id": "kwlTiz4i03mc"
      },
      "source": [
        "Let us see if better only in USA"
      ]
    },
    {
      "cell_type": "code",
      "execution_count": null,
      "metadata": {
        "id": "0nDisKFa1Bh9",
        "colab": {
          "base_uri": "https://localhost:8080/",
          "height": 143
        },
        "outputId": "ed1cea9d-43eb-4eee-bb86-5be511dcb5d1"
      },
      "outputs": [
        {
          "output_type": "execute_result",
          "data": {
            "text/plain": [
              "             count          mean           std  min      25%        50%  \\\n",
              "status                                                                    \n",
              "exited      9444.0  1.792691e+07  1.957502e+08  0.0  25000.0   559804.0   \n",
              "operating  66693.0  1.749950e+07  1.082925e+08  0.0  81868.0  1050000.0   \n",
              "\n",
              "                  75%           max  \n",
              "status                               \n",
              "exited     4687107.75  1.511880e+10  \n",
              "operating  6140000.00  1.100012e+10  "
            ],
            "text/html": [
              "\n",
              "  <div id=\"df-3ce62501-b8ed-4823-9f39-4981e9a31997\">\n",
              "    <div class=\"colab-df-container\">\n",
              "      <div>\n",
              "<style scoped>\n",
              "    .dataframe tbody tr th:only-of-type {\n",
              "        vertical-align: middle;\n",
              "    }\n",
              "\n",
              "    .dataframe tbody tr th {\n",
              "        vertical-align: top;\n",
              "    }\n",
              "\n",
              "    .dataframe thead th {\n",
              "        text-align: right;\n",
              "    }\n",
              "</style>\n",
              "<table border=\"1\" class=\"dataframe\">\n",
              "  <thead>\n",
              "    <tr style=\"text-align: right;\">\n",
              "      <th></th>\n",
              "      <th>count</th>\n",
              "      <th>mean</th>\n",
              "      <th>std</th>\n",
              "      <th>min</th>\n",
              "      <th>25%</th>\n",
              "      <th>50%</th>\n",
              "      <th>75%</th>\n",
              "      <th>max</th>\n",
              "    </tr>\n",
              "    <tr>\n",
              "      <th>status</th>\n",
              "      <th></th>\n",
              "      <th></th>\n",
              "      <th></th>\n",
              "      <th></th>\n",
              "      <th></th>\n",
              "      <th></th>\n",
              "      <th></th>\n",
              "      <th></th>\n",
              "    </tr>\n",
              "  </thead>\n",
              "  <tbody>\n",
              "    <tr>\n",
              "      <th>exited</th>\n",
              "      <td>9444.0</td>\n",
              "      <td>1.792691e+07</td>\n",
              "      <td>1.957502e+08</td>\n",
              "      <td>0.0</td>\n",
              "      <td>25000.0</td>\n",
              "      <td>559804.0</td>\n",
              "      <td>4687107.75</td>\n",
              "      <td>1.511880e+10</td>\n",
              "    </tr>\n",
              "    <tr>\n",
              "      <th>operating</th>\n",
              "      <td>66693.0</td>\n",
              "      <td>1.749950e+07</td>\n",
              "      <td>1.082925e+08</td>\n",
              "      <td>0.0</td>\n",
              "      <td>81868.0</td>\n",
              "      <td>1050000.0</td>\n",
              "      <td>6140000.00</td>\n",
              "      <td>1.100012e+10</td>\n",
              "    </tr>\n",
              "  </tbody>\n",
              "</table>\n",
              "</div>\n",
              "      <button class=\"colab-df-convert\" onclick=\"convertToInteractive('df-3ce62501-b8ed-4823-9f39-4981e9a31997')\"\n",
              "              title=\"Convert this dataframe to an interactive table.\"\n",
              "              style=\"display:none;\">\n",
              "        \n",
              "  <svg xmlns=\"http://www.w3.org/2000/svg\" height=\"24px\"viewBox=\"0 0 24 24\"\n",
              "       width=\"24px\">\n",
              "    <path d=\"M0 0h24v24H0V0z\" fill=\"none\"/>\n",
              "    <path d=\"M18.56 5.44l.94 2.06.94-2.06 2.06-.94-2.06-.94-.94-2.06-.94 2.06-2.06.94zm-11 1L8.5 8.5l.94-2.06 2.06-.94-2.06-.94L8.5 2.5l-.94 2.06-2.06.94zm10 10l.94 2.06.94-2.06 2.06-.94-2.06-.94-.94-2.06-.94 2.06-2.06.94z\"/><path d=\"M17.41 7.96l-1.37-1.37c-.4-.4-.92-.59-1.43-.59-.52 0-1.04.2-1.43.59L10.3 9.45l-7.72 7.72c-.78.78-.78 2.05 0 2.83L4 21.41c.39.39.9.59 1.41.59.51 0 1.02-.2 1.41-.59l7.78-7.78 2.81-2.81c.8-.78.8-2.07 0-2.86zM5.41 20L4 18.59l7.72-7.72 1.47 1.35L5.41 20z\"/>\n",
              "  </svg>\n",
              "      </button>\n",
              "      \n",
              "  <style>\n",
              "    .colab-df-container {\n",
              "      display:flex;\n",
              "      flex-wrap:wrap;\n",
              "      gap: 12px;\n",
              "    }\n",
              "\n",
              "    .colab-df-convert {\n",
              "      background-color: #E8F0FE;\n",
              "      border: none;\n",
              "      border-radius: 50%;\n",
              "      cursor: pointer;\n",
              "      display: none;\n",
              "      fill: #1967D2;\n",
              "      height: 32px;\n",
              "      padding: 0 0 0 0;\n",
              "      width: 32px;\n",
              "    }\n",
              "\n",
              "    .colab-df-convert:hover {\n",
              "      background-color: #E2EBFA;\n",
              "      box-shadow: 0px 1px 2px rgba(60, 64, 67, 0.3), 0px 1px 3px 1px rgba(60, 64, 67, 0.15);\n",
              "      fill: #174EA6;\n",
              "    }\n",
              "\n",
              "    [theme=dark] .colab-df-convert {\n",
              "      background-color: #3B4455;\n",
              "      fill: #D2E3FC;\n",
              "    }\n",
              "\n",
              "    [theme=dark] .colab-df-convert:hover {\n",
              "      background-color: #434B5C;\n",
              "      box-shadow: 0px 1px 3px 1px rgba(0, 0, 0, 0.15);\n",
              "      filter: drop-shadow(0px 1px 2px rgba(0, 0, 0, 0.3));\n",
              "      fill: #FFFFFF;\n",
              "    }\n",
              "  </style>\n",
              "\n",
              "      <script>\n",
              "        const buttonEl =\n",
              "          document.querySelector('#df-3ce62501-b8ed-4823-9f39-4981e9a31997 button.colab-df-convert');\n",
              "        buttonEl.style.display =\n",
              "          google.colab.kernel.accessAllowed ? 'block' : 'none';\n",
              "\n",
              "        async function convertToInteractive(key) {\n",
              "          const element = document.querySelector('#df-3ce62501-b8ed-4823-9f39-4981e9a31997');\n",
              "          const dataTable =\n",
              "            await google.colab.kernel.invokeFunction('convertToInteractive',\n",
              "                                                     [key], {});\n",
              "          if (!dataTable) return;\n",
              "\n",
              "          const docLinkHtml = 'Like what you see? Visit the ' +\n",
              "            '<a target=\"_blank\" href=https://colab.research.google.com/notebooks/data_table.ipynb>data table notebook</a>'\n",
              "            + ' to learn more about interactive tables.';\n",
              "          element.innerHTML = '';\n",
              "          dataTable['output_type'] = 'display_data';\n",
              "          await google.colab.output.renderOutput(dataTable, element);\n",
              "          const docLink = document.createElement('div');\n",
              "          docLink.innerHTML = docLinkHtml;\n",
              "          element.appendChild(docLink);\n",
              "        }\n",
              "      </script>\n",
              "    </div>\n",
              "  </div>\n",
              "  "
            ]
          },
          "metadata": {},
          "execution_count": 66
        }
      ],
      "source": [
        "df.groupby('status')['total_funding_usd'].describe()"
      ]
    },
    {
      "cell_type": "markdown",
      "metadata": {
        "id": "a3vRM8v13NgJ"
      },
      "source": [
        "We see that exited and operating companies have very close means so from an average total funding POV, they are extremely close. In other words, on average they receive the same amount of funding. So the amount of money received doesn't seem to differentiate them."
      ]
    },
    {
      "cell_type": "code",
      "execution_count": null,
      "metadata": {
        "id": "0f3UXaKu5Xhq",
        "colab": {
          "base_uri": "https://localhost:8080/"
        },
        "outputId": "9233fa54-d511-4f8d-a18b-d78089bd3eb6"
      },
      "outputs": [
        {
          "output_type": "execute_result",
          "data": {
            "text/plain": [
              "uuid                              object\n",
              "country_code                      object\n",
              "region                            object\n",
              "status                            object\n",
              "category_groups_list              object\n",
              "num_funding_rounds               float64\n",
              "total_funding_usd                float64\n",
              "founded_on                datetime64[ns]\n",
              "last_funding_on           datetime64[ns]\n",
              "featured_job_title                object\n",
              "num_seniors                        int64\n",
              "male_senior_ratio                float64\n",
              "num_degrees                      float64\n",
              "seed                               int64\n",
              "early_investment                   int64\n",
              "any_investment_funding             int64\n",
              "debt_or_other                      int64\n",
              "investor_count                   float64\n",
              "employee_count_cat                 int64\n",
              "social_media_presence              int64\n",
              "dtype: object"
            ]
          },
          "metadata": {},
          "execution_count": 67
        }
      ],
      "source": [
        "df.dtypes"
      ]
    },
    {
      "cell_type": "markdown",
      "metadata": {
        "id": "oN40U3wm5zjO"
      },
      "source": [
        "Let's see"
      ]
    },
    {
      "cell_type": "code",
      "execution_count": null,
      "metadata": {
        "id": "AmMnGoSy46c3",
        "colab": {
          "base_uri": "https://localhost:8080/",
          "height": 425
        },
        "outputId": "d6d8cee6-ba5e-44aa-9c95-90d8e7a2fab8"
      },
      "outputs": [
        {
          "output_type": "execute_result",
          "data": {
            "text/plain": [
              "status                        exited     operating\n",
              "num_funding_rounds      2.168996e+00  2.422308e+00\n",
              "total_funding_usd       1.792691e+07  1.749950e+07\n",
              "num_seniors             2.417302e+00  2.327561e+00\n",
              "male_senior_ratio       8.490841e-01  8.186727e-01\n",
              "num_degrees             5.942397e-01  6.297063e-01\n",
              "seed                    6.489835e-01  5.939754e-01\n",
              "early_investment        2.548708e-01  3.916603e-01\n",
              "any_investment_funding  3.447692e-01  3.565592e-01\n",
              "debt_or_other           1.899619e-01  1.908746e-01\n",
              "investor_count          3.932338e+00  4.809125e+00\n",
              "employee_count_cat      1.763130e+00  1.777578e+00\n",
              "social_media_presence   5.199068e-01  4.510668e-01"
            ],
            "text/html": [
              "\n",
              "  <div id=\"df-f71054b6-61fc-4dec-b53c-ab42ad0b1ff8\">\n",
              "    <div class=\"colab-df-container\">\n",
              "      <div>\n",
              "<style scoped>\n",
              "    .dataframe tbody tr th:only-of-type {\n",
              "        vertical-align: middle;\n",
              "    }\n",
              "\n",
              "    .dataframe tbody tr th {\n",
              "        vertical-align: top;\n",
              "    }\n",
              "\n",
              "    .dataframe thead th {\n",
              "        text-align: right;\n",
              "    }\n",
              "</style>\n",
              "<table border=\"1\" class=\"dataframe\">\n",
              "  <thead>\n",
              "    <tr style=\"text-align: right;\">\n",
              "      <th>status</th>\n",
              "      <th>exited</th>\n",
              "      <th>operating</th>\n",
              "    </tr>\n",
              "  </thead>\n",
              "  <tbody>\n",
              "    <tr>\n",
              "      <th>num_funding_rounds</th>\n",
              "      <td>2.168996e+00</td>\n",
              "      <td>2.422308e+00</td>\n",
              "    </tr>\n",
              "    <tr>\n",
              "      <th>total_funding_usd</th>\n",
              "      <td>1.792691e+07</td>\n",
              "      <td>1.749950e+07</td>\n",
              "    </tr>\n",
              "    <tr>\n",
              "      <th>num_seniors</th>\n",
              "      <td>2.417302e+00</td>\n",
              "      <td>2.327561e+00</td>\n",
              "    </tr>\n",
              "    <tr>\n",
              "      <th>male_senior_ratio</th>\n",
              "      <td>8.490841e-01</td>\n",
              "      <td>8.186727e-01</td>\n",
              "    </tr>\n",
              "    <tr>\n",
              "      <th>num_degrees</th>\n",
              "      <td>5.942397e-01</td>\n",
              "      <td>6.297063e-01</td>\n",
              "    </tr>\n",
              "    <tr>\n",
              "      <th>seed</th>\n",
              "      <td>6.489835e-01</td>\n",
              "      <td>5.939754e-01</td>\n",
              "    </tr>\n",
              "    <tr>\n",
              "      <th>early_investment</th>\n",
              "      <td>2.548708e-01</td>\n",
              "      <td>3.916603e-01</td>\n",
              "    </tr>\n",
              "    <tr>\n",
              "      <th>any_investment_funding</th>\n",
              "      <td>3.447692e-01</td>\n",
              "      <td>3.565592e-01</td>\n",
              "    </tr>\n",
              "    <tr>\n",
              "      <th>debt_or_other</th>\n",
              "      <td>1.899619e-01</td>\n",
              "      <td>1.908746e-01</td>\n",
              "    </tr>\n",
              "    <tr>\n",
              "      <th>investor_count</th>\n",
              "      <td>3.932338e+00</td>\n",
              "      <td>4.809125e+00</td>\n",
              "    </tr>\n",
              "    <tr>\n",
              "      <th>employee_count_cat</th>\n",
              "      <td>1.763130e+00</td>\n",
              "      <td>1.777578e+00</td>\n",
              "    </tr>\n",
              "    <tr>\n",
              "      <th>social_media_presence</th>\n",
              "      <td>5.199068e-01</td>\n",
              "      <td>4.510668e-01</td>\n",
              "    </tr>\n",
              "  </tbody>\n",
              "</table>\n",
              "</div>\n",
              "      <button class=\"colab-df-convert\" onclick=\"convertToInteractive('df-f71054b6-61fc-4dec-b53c-ab42ad0b1ff8')\"\n",
              "              title=\"Convert this dataframe to an interactive table.\"\n",
              "              style=\"display:none;\">\n",
              "        \n",
              "  <svg xmlns=\"http://www.w3.org/2000/svg\" height=\"24px\"viewBox=\"0 0 24 24\"\n",
              "       width=\"24px\">\n",
              "    <path d=\"M0 0h24v24H0V0z\" fill=\"none\"/>\n",
              "    <path d=\"M18.56 5.44l.94 2.06.94-2.06 2.06-.94-2.06-.94-.94-2.06-.94 2.06-2.06.94zm-11 1L8.5 8.5l.94-2.06 2.06-.94-2.06-.94L8.5 2.5l-.94 2.06-2.06.94zm10 10l.94 2.06.94-2.06 2.06-.94-2.06-.94-.94-2.06-.94 2.06-2.06.94z\"/><path d=\"M17.41 7.96l-1.37-1.37c-.4-.4-.92-.59-1.43-.59-.52 0-1.04.2-1.43.59L10.3 9.45l-7.72 7.72c-.78.78-.78 2.05 0 2.83L4 21.41c.39.39.9.59 1.41.59.51 0 1.02-.2 1.41-.59l7.78-7.78 2.81-2.81c.8-.78.8-2.07 0-2.86zM5.41 20L4 18.59l7.72-7.72 1.47 1.35L5.41 20z\"/>\n",
              "  </svg>\n",
              "      </button>\n",
              "      \n",
              "  <style>\n",
              "    .colab-df-container {\n",
              "      display:flex;\n",
              "      flex-wrap:wrap;\n",
              "      gap: 12px;\n",
              "    }\n",
              "\n",
              "    .colab-df-convert {\n",
              "      background-color: #E8F0FE;\n",
              "      border: none;\n",
              "      border-radius: 50%;\n",
              "      cursor: pointer;\n",
              "      display: none;\n",
              "      fill: #1967D2;\n",
              "      height: 32px;\n",
              "      padding: 0 0 0 0;\n",
              "      width: 32px;\n",
              "    }\n",
              "\n",
              "    .colab-df-convert:hover {\n",
              "      background-color: #E2EBFA;\n",
              "      box-shadow: 0px 1px 2px rgba(60, 64, 67, 0.3), 0px 1px 3px 1px rgba(60, 64, 67, 0.15);\n",
              "      fill: #174EA6;\n",
              "    }\n",
              "\n",
              "    [theme=dark] .colab-df-convert {\n",
              "      background-color: #3B4455;\n",
              "      fill: #D2E3FC;\n",
              "    }\n",
              "\n",
              "    [theme=dark] .colab-df-convert:hover {\n",
              "      background-color: #434B5C;\n",
              "      box-shadow: 0px 1px 3px 1px rgba(0, 0, 0, 0.15);\n",
              "      filter: drop-shadow(0px 1px 2px rgba(0, 0, 0, 0.3));\n",
              "      fill: #FFFFFF;\n",
              "    }\n",
              "  </style>\n",
              "\n",
              "      <script>\n",
              "        const buttonEl =\n",
              "          document.querySelector('#df-f71054b6-61fc-4dec-b53c-ab42ad0b1ff8 button.colab-df-convert');\n",
              "        buttonEl.style.display =\n",
              "          google.colab.kernel.accessAllowed ? 'block' : 'none';\n",
              "\n",
              "        async function convertToInteractive(key) {\n",
              "          const element = document.querySelector('#df-f71054b6-61fc-4dec-b53c-ab42ad0b1ff8');\n",
              "          const dataTable =\n",
              "            await google.colab.kernel.invokeFunction('convertToInteractive',\n",
              "                                                     [key], {});\n",
              "          if (!dataTable) return;\n",
              "\n",
              "          const docLinkHtml = 'Like what you see? Visit the ' +\n",
              "            '<a target=\"_blank\" href=https://colab.research.google.com/notebooks/data_table.ipynb>data table notebook</a>'\n",
              "            + ' to learn more about interactive tables.';\n",
              "          element.innerHTML = '';\n",
              "          dataTable['output_type'] = 'display_data';\n",
              "          await google.colab.output.renderOutput(dataTable, element);\n",
              "          const docLink = document.createElement('div');\n",
              "          docLink.innerHTML = docLinkHtml;\n",
              "          element.appendChild(docLink);\n",
              "        }\n",
              "      </script>\n",
              "    </div>\n",
              "  </div>\n",
              "  "
            ]
          },
          "metadata": {},
          "execution_count": 68
        }
      ],
      "source": [
        "num_cols = df.select_dtypes(include=np.number).columns.tolist()\n",
        "df.groupby('status')[num_cols].mean().T"
      ]
    },
    {
      "cell_type": "markdown",
      "metadata": {
        "id": "z75tCPFk6OVF"
      },
      "source": [
        "Let's draw a barplot of status count to help us understand the distribution of startups across different status."
      ]
    },
    {
      "cell_type": "code",
      "execution_count": null,
      "metadata": {
        "id": "YboQroAV6ILf",
        "colab": {
          "base_uri": "https://localhost:8080/",
          "height": 472
        },
        "outputId": "68bdf7f6-2469-4c72-f5a7-b4b1b5979e43"
      },
      "outputs": [
        {
          "output_type": "execute_result",
          "data": {
            "text/plain": [
              "<Axes: xlabel='status', ylabel='count'>"
            ]
          },
          "metadata": {},
          "execution_count": 69
        },
        {
          "output_type": "display_data",
          "data": {
            "text/plain": [
              "<Figure size 640x480 with 1 Axes>"
            ],
            "image/png": "[encoded data removed]"
          },
          "metadata": {}
        }
      ],
      "source": [
        "sns.countplot(x='status', data=df)"
      ]
    },
    {
      "cell_type": "markdown",
      "metadata": {
        "id": "BH6dJ4rq6aR9"
      },
      "source": [
        "We notice that we have a huge class imbalance that we will be dealing with later on"
      ]
    },
    {
      "cell_type": "code",
      "execution_count": null,
      "metadata": {
        "id": "PLe-z74w7lB7"
      },
      "outputs": [],
      "source": [
        "Q1 = df['total_funding_usd'].quantile(0.25)\n",
        "Q3 = df['total_funding_usd'].quantile(0.75)\n",
        "IQR = Q3 - Q1\n",
        "\n",
        "df = df[(df['total_funding_usd'] >= Q1 - 1.5*IQR) & (df['total_funding_usd'] <= Q3 + 1.5*IQR)]"
      ]
    },
    {
      "cell_type": "code",
      "execution_count": null,
      "metadata": {
        "id": "N_og5LJhVa2R",
        "colab": {
          "base_uri": "https://localhost:8080/"
        },
        "outputId": "ffe717bc-857b-4521-8bbb-84ec39d58bfa"
      },
      "outputs": [
        {
          "output_type": "execute_result",
          "data": {
            "text/plain": [
              "continent    0\n",
              "code_3       0\n",
              "country      0\n",
              "dtype: int64"
            ]
          },
          "metadata": {},
          "execution_count": 76
        }
      ],
      "source": [
        "country = pd.read_csv(\"/content/drive/My Drive/countryContinent.csv\", encoding= 'unicode_escape') # uploading dataset to map countyr code to continent\n",
        "country = country[['continent', 'code_3', 'country']]\n",
        "country = country.dropna(how='any',axis=0)\n",
        "country.isnull().sum() # checking if there is null values"
      ]
    },
    {
      "cell_type": "markdown",
      "metadata": {
        "id": "LLaN5U6Db_Ao"
      },
      "source": [
        "Perfect! There are no null variables! We can proceed"
      ]
    },
    {
      "cell_type": "code",
      "execution_count": null,
      "metadata": {
        "id": "8zyp-NzWbsIJ",
        "colab": {
          "base_uri": "https://localhost:8080/"
        },
        "outputId": "97530247-e253-4b21-cdf5-c2704edbde0e"
      },
      "outputs": [
        {
          "output_type": "execute_result",
          "data": {
            "text/plain": [
              "Index(['uuid', 'country_code', 'region', 'status', 'category_groups_list',\n",
              "       'num_funding_rounds', 'total_funding_usd', 'founded_on',\n",
              "       'last_funding_on', 'featured_job_title', 'num_seniors',\n",
              "       'male_senior_ratio', 'num_degrees', 'seed', 'early_investment',\n",
              "       'any_investment_funding', 'debt_or_other', 'investor_count',\n",
              "       'employee_count_cat', 'social_media_presence', 'continent', 'code_3',\n",
              "       'country'],\n",
              "      dtype='object')"
            ]
          },
          "metadata": {},
          "execution_count": 77
        }
      ],
      "source": [
        "df = df.merge(country, left_on='country_code', right_on='code_3')\n",
        "# merging both datasets and creating new column called continent\n",
        "df.columns"
      ]
    },
    {
      "cell_type": "code",
      "execution_count": null,
      "metadata": {
        "id": "lo7JGuwycKBy",
        "colab": {
          "base_uri": "https://localhost:8080/"
        },
        "outputId": "afe1f96a-49a7-422f-8b3f-dbf2f10d288a"
      },
      "outputs": [
        {
          "output_type": "execute_result",
          "data": {
            "text/plain": [
              "continent\n",
              "North America    25644\n",
              "Europe           18171\n",
              "Asia             12559\n",
              "Americas          4731\n",
              "Africa            1387\n",
              "Oceania           1296\n",
              "Name: uuid, dtype: int64"
            ]
          },
          "metadata": {},
          "execution_count": 78
        }
      ],
      "source": [
        "df.groupby(by = ['continent'])['uuid'].count().sort_values(ascending=False) #number of companies in each continent\n",
        "# North America is the highest"
      ]
    },
    {
      "cell_type": "markdown",
      "metadata": {
        "id": "MEsGq916ejZb"
      },
      "source": [
        "Notice that we consider North America as only consisting of USA and the rest of that continent is considered as \"Americas\". This is to make things a bit more balanced."
      ]
    },
    {
      "cell_type": "code",
      "execution_count": null,
      "metadata": {
        "id": "eT9jvp-N_sC7"
      },
      "outputs": [],
      "source": [
        "df = df.drop(['uuid','country_code','region'], axis=1)"
      ]
    },
    {
      "cell_type": "code",
      "execution_count": null,
      "metadata": {
        "id": "xEe0zdAq_9kq",
        "colab": {
          "base_uri": "https://localhost:8080/"
        },
        "outputId": "4001834e-fb42-4239-cca9-bf9e302aa1e1"
      },
      "outputs": [
        {
          "output_type": "stream",
          "name": "stdout",
          "text": [
            "<class 'pandas.core.frame.DataFrame'>\n",
            "Int64Index: 63788 entries, 0 to 63787\n",
            "Data columns (total 20 columns):\n",
            " #   Column                  Non-Null Count  Dtype         \n",
            "---  ------                  --------------  -----         \n",
            " 0   status                  63788 non-null  object        \n",
            " 1   category_groups_list    62373 non-null  object        \n",
            " 2   num_funding_rounds      63788 non-null  float64       \n",
            " 3   total_funding_usd       63788 non-null  float64       \n",
            " 4   founded_on              63788 non-null  datetime64[ns]\n",
            " 5   last_funding_on         63788 non-null  datetime64[ns]\n",
            " 6   featured_job_title      63788 non-null  object        \n",
            " 7   num_seniors             63788 non-null  int64         \n",
            " 8   male_senior_ratio       63788 non-null  float64       \n",
            " 9   num_degrees             63788 non-null  float64       \n",
            " 10  seed                    63788 non-null  int64         \n",
            " 11  early_investment        63788 non-null  int64         \n",
            " 12  any_investment_funding  63788 non-null  int64         \n",
            " 13  debt_or_other           63788 non-null  int64         \n",
            " 14  investor_count          63788 non-null  float64       \n",
            " 15  employee_count_cat      63788 non-null  int64         \n",
            " 16  social_media_presence   63788 non-null  int64         \n",
            " 17  continent               63788 non-null  object        \n",
            " 18  code_3                  63788 non-null  object        \n",
            " 19  country                 63788 non-null  object        \n",
            "dtypes: datetime64[ns](2), float64(5), int64(7), object(6)\n",
            "memory usage: 10.2+ MB\n"
          ]
        }
      ],
      "source": [
        "df.info()"
      ]
    },
    {
      "cell_type": "code",
      "execution_count": null,
      "metadata": {
        "id": "JdcynYX-TY9C"
      },
      "outputs": [],
      "source": [
        "df = df.drop(['code_3', 'country'], axis=1)"
      ]
    },
    {
      "cell_type": "code",
      "execution_count": null,
      "metadata": {
        "id": "Yeu783HfTlvi"
      },
      "outputs": [],
      "source": [
        "# filter the DataFrame to keep only rows where last funding is later than founded date\n",
        "df = df.loc[df['last_funding_on'] > df['founded_on']]"
      ]
    },
    {
      "cell_type": "code",
      "execution_count": null,
      "metadata": {
        "id": "jwsCFZ-5Thnp"
      },
      "outputs": [],
      "source": [
        "import datetime as dt\n",
        "# calculate the age of the companies from today in years\n",
        "today = pd.Timestamp(dt.datetime.now())\n",
        "df.loc[:, 'company_age'] = round((today - df['founded_on']).dt.days / 365, 0)\n",
        "\n",
        "# calculate the years from now it last received funding\n",
        "df.loc[:, 'years_since_last_funding'] = round((today - df['last_funding_on']).dt.days / 365, 0)\n",
        "\n",
        "# calculate the difference in time between last funding on and founded date\n",
        "df.loc[:, 'years_of_funding_dependence'] = round((df['last_funding_on'] - df['founded_on']).dt.days / 365, 0)"
      ]
    },
    {
      "cell_type": "code",
      "execution_count": null,
      "metadata": {
        "id": "gqrKImwMsq81",
        "colab": {
          "base_uri": "https://localhost:8080/"
        },
        "outputId": "7b7a9347-961c-440a-9c58-fb1d60c0fd41"
      },
      "outputs": [
        {
          "output_type": "stream",
          "name": "stdout",
          "text": [
            "<class 'pandas.core.frame.DataFrame'>\n",
            "Int64Index: 61860 entries, 1 to 63787\n",
            "Data columns (total 21 columns):\n",
            " #   Column                       Non-Null Count  Dtype         \n",
            "---  ------                       --------------  -----         \n",
            " 0   status                       61860 non-null  object        \n",
            " 1   category_groups_list         60505 non-null  object        \n",
            " 2   num_funding_rounds           61860 non-null  float64       \n",
            " 3   total_funding_usd            61860 non-null  float64       \n",
            " 4   founded_on                   61860 non-null  datetime64[ns]\n",
            " 5   last_funding_on              61860 non-null  datetime64[ns]\n",
            " 6   featured_job_title           61860 non-null  object        \n",
            " 7   num_seniors                  61860 non-null  int64         \n",
            " 8   male_senior_ratio            61860 non-null  float64       \n",
            " 9   num_degrees                  61860 non-null  float64       \n",
            " 10  seed                         61860 non-null  int64         \n",
            " 11  early_investment             61860 non-null  int64         \n",
            " 12  any_investment_funding       61860 non-null  int64         \n",
            " 13  debt_or_other                61860 non-null  int64         \n",
            " 14  investor_count               61860 non-null  float64       \n",
            " 15  employee_count_cat           61860 non-null  int64         \n",
            " 16  social_media_presence        61860 non-null  int64         \n",
            " 17  continent                    61860 non-null  object        \n",
            " 18  company_age                  61860 non-null  float64       \n",
            " 19  years_since_last_funding     61860 non-null  float64       \n",
            " 20  years_of_funding_dependence  61860 non-null  float64       \n",
            "dtypes: datetime64[ns](2), float64(8), int64(7), object(4)\n",
            "memory usage: 10.4+ MB\n"
          ]
        }
      ],
      "source": [
        "df.info()"
      ]
    },
    {
      "cell_type": "code",
      "execution_count": null,
      "metadata": {
        "id": "-MGvKf7ZwXUG"
      },
      "outputs": [],
      "source": [
        "df = df.drop(['founded_on', 'last_funding_on'], axis=1)"
      ]
    },
    {
      "cell_type": "code",
      "execution_count": null,
      "metadata": {
        "id": "DZts6l3FyQVw"
      },
      "outputs": [],
      "source": [
        "df = df.drop(['featured_job_title'], axis=1)"
      ]
    },
    {
      "cell_type": "code",
      "execution_count": null,
      "metadata": {
        "id": "ca9w7-YXLp1N",
        "colab": {
          "base_uri": "https://localhost:8080/"
        },
        "outputId": "9dec75fd-fc24-4696-d0af-a8dc5502ee91"
      },
      "outputs": [
        {
          "output_type": "execute_result",
          "data": {
            "text/plain": [
              "0    45825\n",
              "1    16035\n",
              "Name: any_investment_funding, dtype: int64"
            ]
          },
          "metadata": {},
          "execution_count": 89
        }
      ],
      "source": [
        "df.any_investment_funding.value_counts()"
      ]
    },
    {
      "cell_type": "code",
      "execution_count": null,
      "metadata": {
        "id": "yaMG_6c8BCWl"
      },
      "outputs": [],
      "source": [
        "# save the DataFrame as a CSV file in Google Drive\n",
        "df.to_csv('/content/drive/My Drive/startup_data.csv', index=False)"
      ]
    }
  ],
  "metadata": {
    "colab": {
      "provenance": [],
      "authorship_tag": "ABX9TyP6lL8NRrwSbqvqagIg57zB",
      "include_colab_link": true
    },
    "kernelspec": {
      "display_name": "Python 3",
      "name": "python3"
    },
    "language_info": {
      "name": "python"
    }
  },
  "nbformat": 4,
  "nbformat_minor": 0
}